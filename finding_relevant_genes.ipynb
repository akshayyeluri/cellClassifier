{
 "cells": [
  {
   "cell_type": "code",
   "execution_count": 1,
   "metadata": {
    "scrolled": true
   },
   "outputs": [
    {
     "name": "stderr",
     "output_type": "stream",
     "text": [
      "Using TensorFlow backend.\n"
     ]
    },
    {
     "name": "stdout",
     "output_type": "stream",
     "text": [
      "Using gpu:  ['/job:localhost/replica:0/task:0/device:GPU:0']\n"
     ]
    }
   ],
   "source": [
    "# Standard python imports\n",
    "import os\n",
    "import h5py\n",
    "import numpy as np\n",
    "import pandas as pd\n",
    "import json\n",
    "from tqdm import tqdm, tnrange, tqdm_notebook\n",
    "\n",
    "# Keras, tf, and sklearn\n",
    "import tensorflow as tf\n",
    "from sklearn.model_selection import train_test_split\n",
    "# Try seeing if we are using a gpu?\n",
    "from keras import backend as K\n",
    "from keras.models import model_from_json\n",
    "sess = tf.Session(config=tf.ConfigProto(log_device_placement=True))\n",
    "K.set_session(sess)\n",
    "print(\"Using gpu: \", K.tensorflow_backend._get_available_gpus())\n",
    "\n",
    "# Make reproducible\n",
    "SEED = 32\n",
    "np.random.seed(SEED)\n",
    "tf.set_random_seed(SEED)\n",
    "\n",
    "# My module imports\n",
    "import utils\n",
    "from make_models import model_1d\n",
    "\n",
    "import matplotlib.pyplot as plt\n",
    "%matplotlib inline"
   ]
  },
  {
   "cell_type": "code",
   "execution_count": 2,
   "metadata": {},
   "outputs": [],
   "source": [
    "# Maybe get the data .mat file\n",
    "if not os.path.isfile(\"data.mat\"):\n",
    "    !wget https://www.dropbox.com/s/b1bnrj2f30xe1ns/xq_data_big.mat?dl=0\n",
    "    !mv 'xq_data_big.mat?dl=0' data.mat\n",
    "\n",
    "# Import the data from file\n",
    "f = h5py.File(\"data.mat\")\n",
    "data_0, labels_0 = np.array(f['data']), np.array(f['labels'])\n",
    "data, labels = data_0.copy(), labels_0.copy()\n",
    "f.close()"
   ]
  },
  {
   "cell_type": "markdown",
   "metadata": {},
   "source": [
    "# Getting Divergences CSV"
   ]
  },
  {
   "cell_type": "raw",
   "metadata": {},
   "source": [
    "# Labels are off by 1 cuz matlab\n",
    "labels = labels.squeeze().astype(int) - 1"
   ]
  },
  {
   "cell_type": "raw",
   "metadata": {},
   "source": [
    "# Get divergences csv\n",
    "colInds = np.where(np.sum(data_0, axis=0) != 0.0)[0]\n",
    "data = data_0[:, colInds].astype(int)\n",
    "gene_scores = np.array([utils.gene_divergence(data[:, i], labels) for i in tnrange(data.shape[1])])\n",
    "inds = np.argsort(gene_scores)[::-1]\n",
    "colInds = colInds[inds]\n",
    "gene_scores = gene_scores[inds]\n",
    "df = pd.DataFrame({\"Gene_index\":colInds, \"Divergence_across_classes\":gene_scores})\n",
    "df.to_csv(\"assets/divergences.csv\")"
   ]
  },
  {
   "cell_type": "raw",
   "metadata": {},
   "source": [
    "fig, ax = plt.subplots(1, 2, figsize=(20, 10))\n",
    "utils.visualize_data(utils.preprocess(data_0), labels, ax = ax[0])\n",
    "utils.visualize_data(utils.preprocess(data_0, colInds), labels, ax = ax[1])\n",
    "ax[0].set_title(\"Original order\")\n",
    "ax[1].set_title(\"Ordered by divergence\");"
   ]
  },
  {
   "cell_type": "markdown",
   "metadata": {},
   "source": [
    "# Finding Minimal Gene Set"
   ]
  },
  {
   "cell_type": "code",
   "execution_count": 3,
   "metadata": {},
   "outputs": [
    {
     "name": "stdout",
     "output_type": "stream",
     "text": [
      "WARNING:tensorflow:From /gdn/centos7/0001/x3/prefixes/tensorflow-gpu/1.13.0-rc2-cudnn7.4-cuda10.0-02c7__08bb4fa58415/lib/python3.7/site-packages/tensorflow/python/framework/op_def_library.py:263: colocate_with (from tensorflow.python.framework.ops) is deprecated and will be removed in a future version.\n",
      "Instructions for updating:\n",
      "Colocations handled automatically by placer.\n"
     ]
    }
   ],
   "source": [
    "# Labels are off by 1 cuz matlab, also one-hot the labels\n",
    "labels = (np.arange(10) == (labels_0 - 1)).astype(np.float32)\n",
    "colInds = np.where(np.sum(data_0, axis=0) != 0.0)[0]\n",
    "data = utils.preprocess(data_0, colInds)\n",
    "# Get test and training\n",
    "train_data, test_data, train_labels, test_labels = train_test_split(data, labels, test_size=0.1)\n",
    "\n",
    "# Reshape the data\n",
    "test_data = test_data[:, :, None, None]\n",
    "train_data = train_data[:, :, None, None]\n",
    "\n",
    "# Save a model to pull up later\n",
    "model = model_1d(data.shape[0], conv_channels=[16, 16, 32, 64, 128], dense_neurons=[512], n_class=10, \\\n",
    "                         conv_ks=[20, 10, 10, 2, 5], \\\n",
    "                         pool_ks=[2, 4, 4, 4, 3], \\\n",
    "                         pads=['same', 'same', 'same', 'valid', 'same'], \\\n",
    "                         pool_type='max',\\\n",
    "                         dropout_strength=0.5)\n",
    "model_s = model.to_json()"
   ]
  },
  {
   "cell_type": "code",
   "execution_count": 4,
   "metadata": {},
   "outputs": [],
   "source": [
    "def getTestAccuracy(train_data, test_data, train_labels, test_labels, \\\n",
    "                    epochs=5, BATCH_SIZE=60, NCLASS=10, model_s=None):\n",
    "    # Make and fit a model\n",
    "    K.clear_session()\n",
    "    if model_s is not None:\n",
    "        model=model_from_json(model_s)\n",
    "        model.compile(loss='categorical_crossentropy',\n",
    "              optimizer='adam',\n",
    "              metrics=['accuracy'])\n",
    "    else:\n",
    "        model = model_1d(data.shape[1], conv_channels=[16, 16, 32, 64, 128], dense_neurons=[512], n_class=NCLASS, \\\n",
    "                         conv_ks=[20, 10, 10, 2, 5], \\\n",
    "                         pool_ks=[2, 4, 4, 4, 3], \\\n",
    "                         pads=['same', 'same', 'same', 'valid', 'same'], \\\n",
    "                         pool_type='max',\\\n",
    "                         dropout_strength=0.5)\n",
    "        \n",
    "    model.fit(train_data, train_labels, \n",
    "          batch_size=BATCH_SIZE, epochs=epochs,\\\n",
    "          verbose=1)\n",
    "    \n",
    "    return model.evaluate(test_data, test_labels, verbose=0)[1]"
   ]
  },
  {
   "cell_type": "code",
   "execution_count": 5,
   "metadata": {
    "scrolled": true
   },
   "outputs": [
    {
     "name": "stdout",
     "output_type": "stream",
     "text": [
      "Evaluating data-set 1/10\n",
      "Start: 0, Stop: 100\n",
      "WARNING:tensorflow:From /gdn/centos7/0001/x3/prefixes/keras/2.2.4-03c7__c7e09d671a6a/lib/python3.7/site-packages/keras/backend/tensorflow_backend.py:3445: calling dropout (from tensorflow.python.ops.nn_ops) with keep_prob is deprecated and will be removed in a future version.\n",
      "Instructions for updating:\n",
      "Please use `rate` instead of `keep_prob`. Rate should be set to `rate = 1 - keep_prob`.\n",
      "WARNING:tensorflow:From /gdn/centos7/0001/x3/prefixes/tensorflow-gpu/1.13.0-rc2-cudnn7.4-cuda10.0-02c7__08bb4fa58415/lib/python3.7/site-packages/tensorflow/python/ops/math_ops.py:3066: to_int32 (from tensorflow.python.ops.math_ops) is deprecated and will be removed in a future version.\n",
      "Instructions for updating:\n",
      "Use tf.cast instead.\n",
      "Epoch 1/5\n",
      "18000/18000 [==============================] - 14s 790us/step - loss: 1.6030 - acc: 0.4183\n",
      "Epoch 2/5\n",
      "18000/18000 [==============================] - 13s 699us/step - loss: 0.9411 - acc: 0.6420\n",
      "Epoch 3/5\n",
      "18000/18000 [==============================] - 13s 700us/step - loss: 0.7311 - acc: 0.7192\n",
      "Epoch 4/5\n",
      "18000/18000 [==============================] - 13s 695us/step - loss: 0.5922 - acc: 0.7683\n",
      "Epoch 5/5\n",
      "18000/18000 [==============================] - 12s 684us/step - loss: 0.4921 - acc: 0.8091\n",
      "Accuracy: 0.7535\n",
      "\n",
      "\n",
      "Evaluating data-set 2/10\n",
      "Start: 100, Stop: 200\n",
      "Epoch 1/5\n",
      "18000/18000 [==============================] - 13s 722us/step - loss: 1.2687 - acc: 0.5225\n",
      "Epoch 2/5\n",
      "18000/18000 [==============================] - 12s 694us/step - loss: 0.7660 - acc: 0.7007\n",
      "Epoch 3/5\n",
      "18000/18000 [==============================] - 12s 694us/step - loss: 0.6140 - acc: 0.7589\n",
      "Epoch 4/5\n",
      "18000/18000 [==============================] - 13s 700us/step - loss: 0.4996 - acc: 0.8043\n",
      "Epoch 5/5\n",
      "18000/18000 [==============================] - 13s 701us/step - loss: 0.3955 - acc: 0.8448\n",
      "Accuracy: 0.7915\n",
      "\n",
      "\n",
      "Evaluating data-set 3/10\n",
      "Start: 200, Stop: 300\n",
      "Epoch 1/5\n",
      "18000/18000 [==============================] - 13s 733us/step - loss: 1.2673 - acc: 0.5244\n",
      "Epoch 2/5\n",
      "18000/18000 [==============================] - 13s 696us/step - loss: 0.7503 - acc: 0.7088\n",
      "Epoch 3/5\n",
      "18000/18000 [==============================] - 13s 695us/step - loss: 0.5870 - acc: 0.7663\n",
      "Epoch 4/5\n",
      "18000/18000 [==============================] - 13s 696us/step - loss: 0.4738 - acc: 0.8107\n",
      "Epoch 5/5\n",
      "18000/18000 [==============================] - 13s 698us/step - loss: 0.3814 - acc: 0.8469\n",
      "Accuracy: 0.797\n",
      "\n",
      "\n",
      "Evaluating data-set 4/10\n",
      "Start: 300, Stop: 400\n",
      "Epoch 1/5\n",
      "18000/18000 [==============================] - 13s 735us/step - loss: 1.2963 - acc: 0.5182\n",
      "Epoch 2/5\n",
      "18000/18000 [==============================] - 12s 694us/step - loss: 0.7368 - acc: 0.7119\n",
      "Epoch 3/5\n",
      "18000/18000 [==============================] - 12s 692us/step - loss: 0.5685 - acc: 0.7757\n",
      "Epoch 4/5\n",
      "18000/18000 [==============================] - 12s 693us/step - loss: 0.4570 - acc: 0.8157\n",
      "Epoch 5/5\n",
      "18000/18000 [==============================] - 13s 696us/step - loss: 0.3850 - acc: 0.8484\n",
      "Accuracy: 0.8075\n",
      "\n",
      "\n",
      "Evaluating data-set 5/10\n",
      "Start: 400, Stop: 500\n",
      "Epoch 1/5\n",
      "18000/18000 [==============================] - 13s 735us/step - loss: 1.2098 - acc: 0.5416\n",
      "Epoch 2/5\n",
      "18000/18000 [==============================] - 12s 694us/step - loss: 0.6975 - acc: 0.7264\n",
      "Epoch 3/5\n",
      "18000/18000 [==============================] - 12s 693us/step - loss: 0.5507 - acc: 0.7808\n",
      "Epoch 4/5\n",
      "18000/18000 [==============================] - 13s 699us/step - loss: 0.4501 - acc: 0.8223\n",
      "Epoch 5/5\n",
      "18000/18000 [==============================] - 13s 700us/step - loss: 0.3755 - acc: 0.8509\n",
      "Accuracy: 0.791\n",
      "\n",
      "\n",
      "Evaluating data-set 6/10\n",
      "Start: 500, Stop: 600\n",
      "Epoch 1/5\n",
      "18000/18000 [==============================] - 13s 729us/step - loss: 1.2560 - acc: 0.5320\n",
      "Epoch 2/5\n",
      "18000/18000 [==============================] - 13s 699us/step - loss: 0.7142 - acc: 0.7201\n",
      "Epoch 3/5\n",
      "18000/18000 [==============================] - 12s 694us/step - loss: 0.5481 - acc: 0.7824\n",
      "Epoch 4/5\n",
      "18000/18000 [==============================] - 13s 695us/step - loss: 0.4427 - acc: 0.8245\n",
      "Epoch 5/5\n",
      "18000/18000 [==============================] - 13s 700us/step - loss: 0.3558 - acc: 0.8608\n",
      "Accuracy: 0.8155\n",
      "\n",
      "\n",
      "Evaluating data-set 7/10\n",
      "Start: 600, Stop: 700\n",
      "Epoch 1/5\n",
      "18000/18000 [==============================] - 13s 731us/step - loss: 1.2255 - acc: 0.5397\n",
      "Epoch 2/5\n",
      "18000/18000 [==============================] - 12s 686us/step - loss: 0.6786 - acc: 0.7316\n",
      "Epoch 3/5\n",
      "18000/18000 [==============================] - 13s 696us/step - loss: 0.5302 - acc: 0.7856\n",
      "Epoch 4/5\n",
      "18000/18000 [==============================] - 12s 694us/step - loss: 0.4285 - acc: 0.8276\n",
      "Epoch 5/5\n",
      "18000/18000 [==============================] - 13s 698us/step - loss: 0.3419 - acc: 0.8649\n",
      "Accuracy: 0.812\n",
      "\n",
      "\n",
      "Evaluating data-set 8/10\n",
      "Start: 700, Stop: 800\n",
      "Epoch 1/5\n",
      "18000/18000 [==============================] - 13s 728us/step - loss: 1.2287 - acc: 0.5417\n",
      "Epoch 2/5\n",
      "18000/18000 [==============================] - 13s 699us/step - loss: 0.6974 - acc: 0.7263\n",
      "Epoch 3/5\n",
      "18000/18000 [==============================] - 13s 699us/step - loss: 0.5352 - acc: 0.7866\n",
      "Epoch 4/5\n",
      "18000/18000 [==============================] - 13s 699us/step - loss: 0.4404 - acc: 0.8238\n",
      "Epoch 5/5\n",
      "18000/18000 [==============================] - 13s 699us/step - loss: 0.3631 - acc: 0.8583\n",
      "Accuracy: 0.818\n",
      "\n",
      "\n",
      "Evaluating data-set 9/10\n",
      "Start: 800, Stop: 900\n",
      "Epoch 1/5\n",
      "18000/18000 [==============================] - 13s 736us/step - loss: 1.2103 - acc: 0.5515\n",
      "Epoch 2/5\n",
      "18000/18000 [==============================] - 13s 699us/step - loss: 0.6866 - acc: 0.7253\n",
      "Epoch 3/5\n",
      "18000/18000 [==============================] - 13s 698us/step - loss: 0.5271 - acc: 0.7907\n",
      "Epoch 4/5\n",
      "18000/18000 [==============================] - 13s 701us/step - loss: 0.4263 - acc: 0.8299\n",
      "Epoch 5/5\n",
      "18000/18000 [==============================] - 13s 702us/step - loss: 0.3468 - acc: 0.8608\n",
      "Accuracy: 0.805\n",
      "\n",
      "\n",
      "Evaluating data-set 10/10\n",
      "Start: 900, Stop: 1000\n",
      "Epoch 1/5\n",
      "18000/18000 [==============================] - 13s 736us/step - loss: 1.2570 - acc: 0.5286\n",
      "Epoch 2/5\n",
      "18000/18000 [==============================] - 13s 701us/step - loss: 0.7174 - acc: 0.7179\n",
      "Epoch 3/5\n",
      "18000/18000 [==============================] - 13s 701us/step - loss: 0.5500 - acc: 0.7811\n",
      "Epoch 4/5\n",
      "18000/18000 [==============================] - 13s 702us/step - loss: 0.4510 - acc: 0.8181\n",
      "Epoch 5/5\n",
      "18000/18000 [==============================] - 13s 698us/step - loss: 0.3531 - acc: 0.8574\n",
      "Accuracy: 0.814\n",
      "\n",
      "\n"
     ]
    }
   ],
   "source": [
    "starts = np.arange(0, 1000, 100)\n",
    "stops = starts + 100\n",
    "accuracies = np.empty(starts.shape[0])\n",
    "indices_in_orig = pd.read_csv(\"assets/divergences.csv\")[\"Gene_index\"].values # Values in original data_matrix\n",
    "indices = [list(colInds).index(ind) for ind in indices_in_orig] # Values in data_matrix with no zero_columns\n",
    "\n",
    "for i, (s, e) in enumerate(zip(starts, stops)):\n",
    "    print(f\"Evaluating data-set {i + 1}/{len(starts)}\")\n",
    "    print(f\"Start: {s}, Stop: {e}\")\n",
    "    zero_cols = indices[s:e]\n",
    "    lost_data = (train_data[:, zero_cols], test_data[:, zero_cols])# Comment_out to not Don't bother restoring data\n",
    "    train_data[:, zero_cols] = 0\n",
    "    test_data[:, zero_cols] = 0\n",
    "    accuracies[i] = getTestAccuracy(train_data, test_data, train_labels, test_labels, model_s=model_s, epochs=5)\n",
    "    (train_data[:, zero_cols], test_data[:, zero_cols]) = lost_data\n",
    "    print(f\"Accuracy: {accuracies[i]}\")\n",
    "    print(\"\\n\")"
   ]
  },
  {
   "cell_type": "code",
   "execution_count": 6,
   "metadata": {},
   "outputs": [],
   "source": [
    "import pickle\n",
    "with open(\"accuracies.pkl\", \"wb\") as f:\n",
    "    pickle.dump((starts, stops, accuracies), f)"
   ]
  },
  {
   "cell_type": "code",
   "execution_count": 7,
   "metadata": {},
   "outputs": [
    {
     "data": {
      "text/plain": [
       "[<matplotlib.lines.Line2D at 0x7f0528018a58>]"
      ]
     },
     "execution_count": 7,
     "metadata": {},
     "output_type": "execute_result"
    },
    {
     "data": {
      "image/png": "[encoded data removed]",
      "text/plain": [
       "<Figure size 432x288 with 1 Axes>"
      ]
     },
     "metadata": {
      "needs_background": "light"
     },
     "output_type": "display_data"
    }
   ],
   "source": [
    "with open(\"accuracies.pkl\", \"rb\") as f:\n",
    "    starts, stops, accs = pickle.load(f)\n",
    "\n",
    "plt.plot(starts, accs)"
   ]
  }
 ],
 "metadata": {
  "kernelspec": {
   "display_name": "Python 3",
   "language": "python",
   "name": "python3"
  },
  "language_info": {
   "codemirror_mode": {
    "name": "ipython",
    "version": 3
   },
   "file_extension": ".py",
   "mimetype": "text/x-python",
   "name": "python",
   "nbconvert_exporter": "python",
   "pygments_lexer": "ipython3",
   "version": "3.7.3"
  }
 },
 "nbformat": 4,
 "nbformat_minor": 2
}
