{
 "cells": [
  {
   "cell_type": "code",
   "execution_count": 1,
   "metadata": {
    "scrolled": true
   },
   "outputs": [
    {
     "name": "stderr",
     "output_type": "stream",
     "text": [
      "Using TensorFlow backend.\n"
     ]
    },
    {
     "name": "stdout",
     "output_type": "stream",
     "text": [
      "Using gpu:  ['/job:localhost/replica:0/task:0/device:GPU:0']\n"
     ]
    }
   ],
   "source": [
    "# Standard python imports\n",
    "import os\n",
    "import h5py\n",
    "import numpy as np\n",
    "import pandas as pd\n",
    "import json\n",
    "from tqdm import tqdm, tnrange, tqdm_notebook\n",
    "\n",
    "# Keras, tf, and sklearn\n",
    "import tensorflow as tf\n",
    "from sklearn.model_selection import train_test_split\n",
    "# Try seeing if we are using a gpu?\n",
    "from keras import backend as K\n",
    "from keras.models import model_from_json\n",
    "sess = tf.Session(config=tf.ConfigProto(log_device_placement=True))\n",
    "K.set_session(sess)\n",
    "print(\"Using gpu: \", K.tensorflow_backend._get_available_gpus())\n",
    "\n",
    "# Make reproducible\n",
    "SEED = 32\n",
    "np.random.seed(SEED)\n",
    "tf.set_random_seed(SEED)\n",
    "\n",
    "# My module imports\n",
    "import utils\n",
    "from models import model_1d\n",
    "\n",
    "import matplotlib.pyplot as plt\n",
    "%matplotlib inline"
   ]
  },
  {
   "cell_type": "code",
   "execution_count": 2,
   "metadata": {},
   "outputs": [],
   "source": [
    "# Maybe get the data .mat file\n",
    "if not os.path.isfile(\"data.mat\"):\n",
    "    !wget https://www.dropbox.com/s/b1bnrj2f30xe1ns/xq_data_big.mat?dl=0\n",
    "    !mv 'xq_data_big.mat?dl=0' data.mat\n",
    "\n",
    "# Import the data from file\n",
    "f = h5py.File(\"data.mat\")\n",
    "data_0, labels_0 = np.array(f['data']), np.array(f['labels'])\n",
    "data, labels = data_0.copy(), labels_0.copy()\n",
    "f.close()"
   ]
  },
  {
   "cell_type": "markdown",
   "metadata": {},
   "source": [
    "# Getting Divergences CSV"
   ]
  },
  {
   "cell_type": "raw",
   "metadata": {},
   "source": [
    "# Labels are off by 1 cuz matlab\n",
    "labels = labels.squeeze().astype(int) - 1"
   ]
  },
  {
   "cell_type": "raw",
   "metadata": {},
   "source": [
    "# Get divergences csv\n",
    "colInds = np.where(np.sum(data_0, axis=0) != 0.0)[0]\n",
    "data = data_0[:, colInds].astype(int)\n",
    "gene_scores = np.array([utils.gene_divergence(data[:, i], labels) for i in tnrange(data.shape[1])])\n",
    "inds = np.argsort(gene_scores)[::-1]\n",
    "colInds = colInds[inds]\n",
    "gene_scores = gene_scores[inds]\n",
    "df = pd.DataFrame({\"Gene_index\":colInds, \"Divergence_across_classes\":gene_scores})\n",
    "df.to_csv(\"assets/divergences.csv\")"
   ]
  },
  {
   "cell_type": "raw",
   "metadata": {},
   "source": [
    "fig, ax = plt.subplots(1, 2, figsize=(20, 10))\n",
    "utils.visualize_data(utils.preprocess(data_0), labels, ax = ax[0])\n",
    "utils.visualize_data(utils.preprocess(data_0, colInds), labels, ax = ax[1])\n",
    "ax[0].set_title(\"Original order\")\n",
    "ax[1].set_title(\"Ordered by divergence\");"
   ]
  },
  {
   "cell_type": "markdown",
   "metadata": {},
   "source": [
    "# Finding Minimal Gene Set"
   ]
  },
  {
   "cell_type": "code",
   "execution_count": 3,
   "metadata": {},
   "outputs": [],
   "source": [
    "# Labels are off by 1 cuz matlab, also one-hot the labels\n",
    "labels = (np.arange(10) == (labels_0 - 1)).astype(np.float32)\n",
    "colInds = np.where(np.sum(data_0, axis=0) != 0.0)[0]\n",
    "data = utils.preprocess(data_0, colInds)\n",
    "# Get test and training\n",
    "train_data, test_data, train_labels, test_labels = train_test_split(data, labels, test_size=0.1)\n",
    "\n",
    "# Reshape the data\n",
    "test_data = test_data[:, :, None, None]\n",
    "train_data = train_data[:, :, None, None]\n",
    "\n",
    "# Save a model to pull up later\n",
    "model = model_1d(data.shape[0], conv_channels=[16, 16, 32, 64, 128], dense_neurons=[512], n_class=10, \\\n",
    "                         conv_ks=[20, 10, 10, 2, 5], \\\n",
    "                         pool_ks=[2, 4, 4, 4, 3], \\\n",
    "                         pads=['same', 'same', 'same', 'valid', 'same'], \\\n",
    "                         pool_type='max',\\\n",
    "                         dropout_strength=0.5)\n",
    "model_s = model.to_json()"
   ]
  },
  {
   "cell_type": "code",
   "execution_count": 4,
   "metadata": {},
   "outputs": [],
   "source": [
    "def getTestAccuracy(train_data, test_data, train_labels, test_labels, \\\n",
    "                    epochs=5, BATCH_SIZE=60, NCLASS=10, model_s=None):\n",
    "    # Make and fit a model\n",
    "    K.clear_session()\n",
    "    if model_s is not None:\n",
    "        model=model_from_json(model_s)\n",
    "    else:\n",
    "        model = model_1d(data.shape[1], conv_channels=[16, 16, 32, 64, 128], dense_neurons=[512], n_class=NCLASS, \\\n",
    "                         conv_ks=[20, 10, 10, 2, 5], \\\n",
    "                         pool_ks=[2, 4, 4, 4, 3], \\\n",
    "                         pads=['same', 'same', 'same', 'valid', 'same'], \\\n",
    "                         pool_type='max',\\\n",
    "                         dropout_strength=0.5)\n",
    "    model.compile(loss='categorical_crossentropy',\n",
    "              optimizer='adam',\n",
    "              metrics=['accuracy'])\n",
    "    model.fit(train_data, train_labels, \n",
    "          batch_size=BATCH_SIZE, epochs=epochs,\\\n",
    "          verbose=1)\n",
    "    \n",
    "    return model.evaluate(test_data, test_labels, verbose=0)[1]"
   ]
  },
  {
   "cell_type": "code",
   "execution_count": 5,
   "metadata": {
    "scrolled": true
   },
   "outputs": [
    {
     "name": "stdout",
     "output_type": "stream",
     "text": [
      "Evaluating data-set 1/10\n",
      "Start: 0, Stop: 300\n",
      "WARNING:tensorflow:From /gdn/centos7/0001/x3/prefixes/tensorflow-gpu/1.13.0-rc2-cudnn7.4-cuda10.0-02c7__08bb4fa58415/lib/python3.7/site-packages/tensorflow/python/framework/op_def_library.py:263: colocate_with (from tensorflow.python.framework.ops) is deprecated and will be removed in a future version.\n",
      "Instructions for updating:\n",
      "Colocations handled automatically by placer.\n",
      "WARNING:tensorflow:From /gdn/centos7/0001/x3/prefixes/keras/2.2.4-03c7__c7e09d671a6a/lib/python3.7/site-packages/keras/backend/tensorflow_backend.py:3445: calling dropout (from tensorflow.python.ops.nn_ops) with keep_prob is deprecated and will be removed in a future version.\n",
      "Instructions for updating:\n",
      "Please use `rate` instead of `keep_prob`. Rate should be set to `rate = 1 - keep_prob`.\n",
      "WARNING:tensorflow:From /gdn/centos7/0001/x3/prefixes/tensorflow-gpu/1.13.0-rc2-cudnn7.4-cuda10.0-02c7__08bb4fa58415/lib/python3.7/site-packages/tensorflow/python/ops/math_ops.py:3066: to_int32 (from tensorflow.python.ops.math_ops) is deprecated and will be removed in a future version.\n",
      "Instructions for updating:\n",
      "Use tf.cast instead.\n",
      "Epoch 1/5\n",
      "18000/18000 [==============================] - 14s 802us/step - loss: 1.7061 - acc: 0.3832\n",
      "Epoch 2/5\n",
      "18000/18000 [==============================] - 13s 716us/step - loss: 1.0928 - acc: 0.5934\n",
      "Epoch 3/5\n",
      "18000/18000 [==============================] - 13s 712us/step - loss: 0.8693 - acc: 0.6701\n",
      "Epoch 4/5\n",
      "18000/18000 [==============================] - 13s 713us/step - loss: 0.7160 - acc: 0.7331\n",
      "Epoch 5/5\n",
      "18000/18000 [==============================] - 13s 717us/step - loss: 0.5824 - acc: 0.7787\n",
      "Accuracy: 0.7205\n",
      "\n",
      "\n",
      "Evaluating data-set 2/10\n",
      "Start: 200, Stop: 500\n",
      "Epoch 1/5\n",
      "18000/18000 [==============================] - 14s 757us/step - loss: 1.2362 - acc: 0.5348\n",
      "Epoch 2/5\n",
      "18000/18000 [==============================] - 13s 716us/step - loss: 0.7394 - acc: 0.7045\n",
      "Epoch 3/5\n",
      "18000/18000 [==============================] - 13s 714us/step - loss: 0.5851 - acc: 0.7655\n",
      "Epoch 4/5\n",
      "18000/18000 [==============================] - 13s 715us/step - loss: 0.4868 - acc: 0.8041\n",
      "Epoch 5/5\n",
      "18000/18000 [==============================] - 13s 706us/step - loss: 0.3979 - acc: 0.8411\n",
      "Accuracy: 0.773\n",
      "\n",
      "\n",
      "Evaluating data-set 3/10\n",
      "Start: 400, Stop: 700\n",
      "Epoch 1/5\n",
      "18000/18000 [==============================] - 14s 760us/step - loss: 1.2267 - acc: 0.5398\n",
      "Epoch 2/5\n",
      "18000/18000 [==============================] - 13s 716us/step - loss: 0.6955 - acc: 0.7248\n",
      "Epoch 3/5\n",
      "18000/18000 [==============================] - 13s 714us/step - loss: 0.5391 - acc: 0.7819\n",
      "Epoch 4/5\n",
      "18000/18000 [==============================] - 13s 713us/step - loss: 0.4324 - acc: 0.8269\n",
      "Epoch 5/5\n",
      "18000/18000 [==============================] - 12s 692us/step - loss: 0.3439 - acc: 0.8633\n",
      "Accuracy: 0.8115\n",
      "\n",
      "\n",
      "Evaluating data-set 4/10\n",
      "Start: 600, Stop: 900\n",
      "Epoch 1/5\n",
      "18000/18000 [==============================] - 13s 736us/step - loss: 1.2919 - acc: 0.5213\n",
      "Epoch 2/5\n",
      "18000/18000 [==============================] - 13s 709us/step - loss: 0.7191 - acc: 0.7184\n",
      "Epoch 3/5\n",
      "18000/18000 [==============================] - 13s 715us/step - loss: 0.5551 - acc: 0.7761\n",
      "Epoch 4/5\n",
      "18000/18000 [==============================] - 13s 714us/step - loss: 0.4615 - acc: 0.8183\n",
      "Epoch 5/5\n",
      "18000/18000 [==============================] - 13s 712us/step - loss: 0.3867 - acc: 0.8437\n",
      "Accuracy: 0.8045\n",
      "\n",
      "\n",
      "Evaluating data-set 5/10\n",
      "Start: 800, Stop: 1100\n",
      "Epoch 1/5\n",
      "18000/18000 [==============================] - 13s 744us/step - loss: 1.1978 - acc: 0.5508\n",
      "Epoch 2/5\n",
      "18000/18000 [==============================] - 13s 714us/step - loss: 0.6900 - acc: 0.7294\n",
      "Epoch 3/5\n",
      "18000/18000 [==============================] - 13s 707us/step - loss: 0.5380 - acc: 0.7873\n",
      "Epoch 4/5\n",
      "18000/18000 [==============================] - 13s 713us/step - loss: 0.4406 - acc: 0.8222\n",
      "Epoch 5/5\n",
      "18000/18000 [==============================] - 13s 717us/step - loss: 0.3691 - acc: 0.8497\n",
      "Accuracy: 0.7965\n",
      "\n",
      "\n",
      "Evaluating data-set 6/10\n",
      "Start: 1000, Stop: 1300\n",
      "Epoch 1/5\n",
      "18000/18000 [==============================] - 14s 753us/step - loss: 1.2327 - acc: 0.5433\n",
      "Epoch 2/5\n",
      "18000/18000 [==============================] - 13s 718us/step - loss: 0.6794 - acc: 0.7306\n",
      "Epoch 3/5\n",
      "18000/18000 [==============================] - 13s 717us/step - loss: 0.5131 - acc: 0.7956\n",
      "Epoch 4/5\n",
      "18000/18000 [==============================] - 13s 713us/step - loss: 0.4086 - acc: 0.8340\n",
      "Epoch 5/5\n",
      "18000/18000 [==============================] - 13s 710us/step - loss: 0.3247 - acc: 0.8710\n",
      "Accuracy: 0.8075\n",
      "\n",
      "\n",
      "Evaluating data-set 7/10\n",
      "Start: 1200, Stop: 1500\n",
      "Epoch 1/5\n",
      "18000/18000 [==============================] - 13s 748us/step - loss: 1.1845 - acc: 0.5535\n",
      "Epoch 2/5\n",
      "18000/18000 [==============================] - 13s 714us/step - loss: 0.6440 - acc: 0.7426\n",
      "Epoch 3/5\n",
      "18000/18000 [==============================] - 13s 715us/step - loss: 0.5023 - acc: 0.8029\n",
      "Epoch 4/5\n",
      "18000/18000 [==============================] - 13s 714us/step - loss: 0.4033 - acc: 0.8401\n",
      "Epoch 5/5\n",
      "18000/18000 [==============================] - 13s 714us/step - loss: 0.3235 - acc: 0.8754\n",
      "Accuracy: 0.8195\n",
      "\n",
      "\n",
      "Evaluating data-set 8/10\n",
      "Start: 1400, Stop: 1700\n",
      "Epoch 1/5\n",
      "18000/18000 [==============================] - 14s 752us/step - loss: 1.2187 - acc: 0.5413\n",
      "Epoch 2/5\n",
      "18000/18000 [==============================] - 13s 719us/step - loss: 0.6982 - acc: 0.7262\n",
      "Epoch 3/5\n",
      "18000/18000 [==============================] - 13s 713us/step - loss: 0.5392 - acc: 0.7848\n",
      "Epoch 4/5\n",
      "18000/18000 [==============================] - 13s 711us/step - loss: 0.4406 - acc: 0.8263\n",
      "Epoch 5/5\n",
      "18000/18000 [==============================] - 13s 713us/step - loss: 0.3677 - acc: 0.8532\n",
      "Accuracy: 0.812\n",
      "\n",
      "\n",
      "Evaluating data-set 9/10\n",
      "Start: 1600, Stop: 1900\n",
      "Epoch 1/5\n",
      "18000/18000 [==============================] - 13s 741us/step - loss: 1.2053 - acc: 0.5486\n",
      "Epoch 2/5\n",
      "18000/18000 [==============================] - 13s 710us/step - loss: 0.6947 - acc: 0.7232\n",
      "Epoch 3/5\n",
      "18000/18000 [==============================] - 13s 715us/step - loss: 0.5363 - acc: 0.7841\n",
      "Epoch 4/5\n",
      "18000/18000 [==============================] - 13s 715us/step - loss: 0.4397 - acc: 0.8246\n",
      "Epoch 5/5\n",
      "18000/18000 [==============================] - 13s 706us/step - loss: 0.3460 - acc: 0.8642\n",
      "Accuracy: 0.8055\n",
      "\n",
      "\n",
      "Evaluating data-set 10/10\n",
      "Start: 1800, Stop: 2100\n",
      "Epoch 1/5\n",
      "18000/18000 [==============================] - 13s 747us/step - loss: 1.2480 - acc: 0.5366\n",
      "Epoch 2/5\n",
      "18000/18000 [==============================] - 13s 714us/step - loss: 0.7020 - acc: 0.7196\n",
      "Epoch 3/5\n",
      "18000/18000 [==============================] - 13s 715us/step - loss: 0.5394 - acc: 0.7842\n",
      "Epoch 4/5\n",
      "18000/18000 [==============================] - 13s 714us/step - loss: 0.4445 - acc: 0.8207\n",
      "Epoch 5/5\n",
      "18000/18000 [==============================] - 13s 717us/step - loss: 0.3581 - acc: 0.8579\n",
      "Accuracy: 0.8135\n",
      "\n",
      "\n"
     ]
    }
   ],
   "source": [
    "starts = np.arange(0, 2000, 200)\n",
    "stops = starts + 300\n",
    "accuracies = np.empty(starts.shape[0])\n",
    "indices_in_orig = pd.read_csv(\"assets/divergences.csv\")[\"Gene_index\"].values # Values in original data_matrix\n",
    "indices = [list(colInds).index(ind) for ind in indices_in_orig] # Values in data_matrix with no zero_columns\n",
    "\n",
    "for i, (s, e) in enumerate(zip(starts, stops)):\n",
    "    print(f\"Evaluating data-set {i + 1}/{len(starts)}\")\n",
    "    print(f\"Start: {s}, Stop: {e}\")\n",
    "    zero_cols = indices[s:e]\n",
    "    lost_data = (train_data[:, zero_cols], test_data[:, zero_cols])# Comment_out to not Don't bother restoring data\n",
    "    train_data[:, zero_cols] = 0\n",
    "    test_data[:, zero_cols] = 0\n",
    "    accuracies[i] = getTestAccuracy(train_data, test_data, train_labels, test_labels, model_s=model_s, epochs=5)\n",
    "    (train_data[:, zero_cols], test_data[:, zero_cols]) = lost_data\n",
    "    print(f\"Accuracy: {accuracies[i]}\")\n",
    "    print(\"\\n\")"
   ]
  },
  {
   "cell_type": "code",
   "execution_count": 6,
   "metadata": {},
   "outputs": [],
   "source": [
    "import pickle\n",
    "with open(\"accuracies.pkl\", \"wb\") as f:\n",
    "    pickle.dump((starts, stops, accuracies), f)"
   ]
  },
  {
   "cell_type": "code",
   "execution_count": 7,
   "metadata": {},
   "outputs": [
    {
     "data": {
      "text/plain": [
       "[<matplotlib.lines.Line2D at 0x7f59e0530400>]"
      ]
     },
     "execution_count": 7,
     "metadata": {},
     "output_type": "execute_result"
    },
    {
     "data": {
      "image/png": "[encoded data removed]",
      "text/plain": [
       "<Figure size 432x288 with 1 Axes>"
      ]
     },
     "metadata": {
      "needs_background": "light"
     },
     "output_type": "display_data"
    }
   ],
   "source": [
    "with open(\"accuracies.pkl\", \"rb\") as f:\n",
    "    starts, stops, accs = pickle.load(f)\n",
    "\n",
    "plt.plot(starts, accs)"
   ]
  },
  {
   "cell_type": "code",
   "execution_count": null,
   "metadata": {},
   "outputs": [],
   "source": []
  }
 ],
 "metadata": {
  "kernelspec": {
   "display_name": "Python 3",
   "language": "python",
   "name": "python3"
  },
  "language_info": {
   "codemirror_mode": {
    "name": "ipython",
    "version": 3
   },
   "file_extension": ".py",
   "mimetype": "text/x-python",
   "name": "python",
   "nbconvert_exporter": "python",
   "pygments_lexer": "ipython3",
   "version": "3.7.3"
  }
 },
 "nbformat": 4,
 "nbformat_minor": 2
}
