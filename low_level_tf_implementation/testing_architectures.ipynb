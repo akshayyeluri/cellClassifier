{
 "cells": [
  {
   "cell_type": "code",
   "execution_count": 1,
   "metadata": {},
   "outputs": [],
   "source": [
    "import arch_4 as arch # This is the model architecture to use\n",
    "SEED = arch.SEED # Use same random seed for consistency\n",
    "import utils\n",
    "\n",
    "import os\n",
    "import h5py\n",
    "import numpy as np\n",
    "np.random.seed(SEED)\n",
    "from tqdm import tqdm, tnrange, tqdm_notebook\n",
    "import tensorflow as tf\n",
    "\n",
    "from sklearn.decomposition import PCA\n",
    "from sklearn.model_selection import train_test_split\n",
    "from sklearn.preprocessing import StandardScaler\n",
    "\n",
    "import matplotlib.pyplot as plt\n",
    "%matplotlib inline"
   ]
  },
  {
   "cell_type": "markdown",
   "metadata": {},
   "source": [
    "# Data Processing"
   ]
  },
  {
   "cell_type": "code",
   "execution_count": 3,
   "metadata": {},
   "outputs": [],
   "source": [
    "# Import the data from file\n",
    "f = h5py.File(\"data.mat\")\n",
    "data, labels = np.array(f['data']), np.array(f['labels'])\n",
    "\n",
    "f.close()"
   ]
  },
  {
   "cell_type": "code",
   "execution_count": 4,
   "metadata": {},
   "outputs": [],
   "source": [
    "# Get rid of zero columns\n",
    "colInds = np.sum(data, axis=0) != 0.0\n",
    "data = data[:, colInds]"
   ]
  },
  {
   "cell_type": "code",
   "execution_count": 5,
   "metadata": {},
   "outputs": [],
   "source": [
    "# Normalize\n",
    "data = np.log1p(data)"
   ]
  },
  {
   "cell_type": "code",
   "execution_count": 6,
   "metadata": {
    "scrolled": false
   },
   "outputs": [
    {
     "data": {
      "image/png": "[encoded data removed]",
      "text/plain": [
       "<Figure size 432x288 with 1 Axes>"
      ]
     },
     "metadata": {
      "needs_background": "light"
     },
     "output_type": "display_data"
    }
   ],
   "source": [
    "# Visualize data with labels\n",
    "labels_scaled = labels * (data.max() - data.min()) / labels.max() - data.min()\n",
    "plt.imshow(np.hstack((data, np.repeat(labels_scaled, data.shape[1] //  10, axis=1))))\n",
    "plt.xlabel(\"Gene index (Colorbar at end is label)\")\n",
    "plt.ylabel(\"Cell index\");"
   ]
  },
  {
   "cell_type": "code",
   "execution_count": 7,
   "metadata": {},
   "outputs": [],
   "source": [
    "# Parameters to use for the rest of this workflow\n",
    "BATCH_SIZE = 60\n",
    "TEST_SIZE = 3000\n",
    "NCLASS = 10"
   ]
  },
  {
   "cell_type": "code",
   "execution_count": 8,
   "metadata": {},
   "outputs": [],
   "source": [
    "# Get test and training\n",
    "train_data, test_data, train_labels, test_labels = train_test_split(data, labels, test_size=TEST_SIZE, random_state=SEED)"
   ]
  },
  {
   "cell_type": "code",
   "execution_count": 9,
   "metadata": {},
   "outputs": [],
   "source": [
    "# Subsample\n",
    "train_data, train_labels = train_data[:600], train_labels[:600]\n",
    "test_data, test_labels = test_data[:600], test_labels[:600]"
   ]
  },
  {
   "cell_type": "code",
   "execution_count": 10,
   "metadata": {},
   "outputs": [],
   "source": [
    "## Maybe do some scaling?\n",
    "#scaler = StandardScaler() # Fit on training set only.\n",
    "#scaler.fit(train_data) # Apply transform to both the training set and the test set.\n",
    "#train_data = scaler.transform(train_data)\n",
    "#test_data = scaler.transform(test_data)"
   ]
  },
  {
   "cell_type": "code",
   "execution_count": 11,
   "metadata": {},
   "outputs": [],
   "source": [
    "# Convert labels to one-hot format\n",
    "train_labels = (np.arange(NCLASS) == train_labels).astype(np.float32)\n",
    "test_labels = (np.arange(NCLASS) == test_labels).astype(np.float32)"
   ]
  },
  {
   "cell_type": "code",
   "execution_count": 12,
   "metadata": {
    "scrolled": true
   },
   "outputs": [
    {
     "name": "stdout",
     "output_type": "stream",
     "text": [
      "[0. 0. 0. 1. 0. 0. 0. 0. 0. 0.]\n"
     ]
    },
    {
     "data": {
      "image/png": "[encoded data removed]",
      "text/plain": [
       "<Figure size 432x288 with 1 Axes>"
      ]
     },
     "metadata": {
      "needs_background": "light"
     },
     "output_type": "display_data"
    }
   ],
   "source": [
    "# Sanity check to make sure data is not crazy\n",
    "plt.subplot(111).hist(train_data[0].flatten(), bins=20)\n",
    "print(train_labels[0])"
   ]
  },
  {
   "cell_type": "code",
   "execution_count": 13,
   "metadata": {},
   "outputs": [],
   "source": [
    "# Extract validation set from data\n",
    "VAL_SIZE = int(train_data.shape[0] * 0.1)\n",
    "val_data, train_data = train_data[:VAL_SIZE], train_data[VAL_SIZE:]\n",
    "val_labels, train_labels = train_labels[:VAL_SIZE], train_labels[VAL_SIZE:]"
   ]
  },
  {
   "cell_type": "code",
   "execution_count": 14,
   "metadata": {},
   "outputs": [
    {
     "data": {
      "text/plain": [
       "(540, 19232)"
      ]
     },
     "execution_count": 14,
     "metadata": {},
     "output_type": "execute_result"
    }
   ],
   "source": [
    "train_data.shape"
   ]
  },
  {
   "cell_type": "code",
   "execution_count": 15,
   "metadata": {},
   "outputs": [],
   "source": [
    "# Reshape data to the format specified by the particular architecture we are using\n",
    "train_data = arch.reshape_data(train_data)\n",
    "test_data = arch.reshape_data(test_data)\n",
    "val_data = arch.reshape_data(val_data)"
   ]
  },
  {
   "cell_type": "code",
   "execution_count": 16,
   "metadata": {},
   "outputs": [
    {
     "data": {
      "text/plain": [
       "(540, 19232, 1, 1)"
      ]
     },
     "execution_count": 16,
     "metadata": {},
     "output_type": "execute_result"
    }
   ],
   "source": [
    "train_data.shape"
   ]
  },
  {
   "cell_type": "markdown",
   "metadata": {},
   "source": [
    "# Defining computation graph"
   ]
  },
  {
   "cell_type": "markdown",
   "metadata": {},
   "source": [
    "### Variables and input / output nodes"
   ]
  },
  {
   "cell_type": "code",
   "execution_count": 17,
   "metadata": {},
   "outputs": [
    {
     "name": "stdout",
     "output_type": "stream",
     "text": [
      "WARNING:tensorflow:From /gdn/centos7/0001/x3/prefixes/tensorflow/1.13.0c7__beed65942abf/lib/python3.7/site-packages/tensorflow/python/framework/op_def_library.py:263: colocate_with (from tensorflow.python.framework.ops) is deprecated and will be removed in a future version.\n",
      "Instructions for updating:\n",
      "Colocations handled automatically by placer.\n"
     ]
    }
   ],
   "source": [
    "arch.make_vars_on_cpu(NCLASS)\n",
    "train_data_node = tf.placeholder(tf.float32, [BATCH_SIZE] + list(train_data.shape[1:]))\n",
    "train_label_node = tf.placeholder(tf.float32, [BATCH_SIZE, NCLASS])         \n",
    "test_data_node, test_label_node = tf.constant(test_data, dtype=tf.float32), tf.constant(test_labels, dtype=tf.float32)\n",
    "val_data_node, val_label_node = tf.constant(val_data, dtype=tf.float32), tf.constant(val_labels, dtype=tf.float32)"
   ]
  },
  {
   "cell_type": "markdown",
   "metadata": {},
   "source": [
    "### Losses, learning rate, and optimization step"
   ]
  },
  {
   "cell_type": "code",
   "execution_count": 18,
   "metadata": {},
   "outputs": [
    {
     "name": "stdout",
     "output_type": "stream",
     "text": [
      "WARNING:tensorflow:From <ipython-input-18-6dce13f58b05>:9: softmax_cross_entropy_with_logits (from tensorflow.python.ops.nn_ops) is deprecated and will be removed in a future version.\n",
      "Instructions for updating:\n",
      "\n",
      "Future major versions of TensorFlow will allow gradients to flow\n",
      "into the labels input on backprop by default.\n",
      "\n",
      "See `tf.nn.softmax_cross_entropy_with_logits_v2`.\n",
      "\n"
     ]
    }
   ],
   "source": [
    "val_out = arch.model(val_data_node)\n",
    "val_probs = tf.nn.softmax(val_out)\n",
    "\n",
    "test_out = arch.model(test_data_node)\n",
    "test_probs = tf.nn.softmax(test_out)\n",
    "\n",
    "logits, regularizers = arch.model(train_data_node, train=True)\n",
    "probs = tf.nn.softmax(logits)\n",
    "loss = tf.reduce_mean(tf.nn.softmax_cross_entropy_with_logits(logits=logits, labels=train_label_node))\n",
    "loss += regularizers\n",
    "\n",
    "global_step = tf.Variable(0, trainable=False)\n",
    "start_eta = 0.01\n",
    "learning_rate = tf.train.exponential_decay(start_eta, global_step * BATCH_SIZE, train_labels.shape[0], 0.95, staircase=True)\n",
    "update_weights = tf.train.MomentumOptimizer(learning_rate=learning_rate, momentum=0.8).minimize(loss, global_step=global_step)"
   ]
  },
  {
   "cell_type": "markdown",
   "metadata": {},
   "source": [
    "# Training"
   ]
  },
  {
   "cell_type": "code",
   "execution_count": 19,
   "metadata": {},
   "outputs": [],
   "source": [
    "sess = tf.InteractiveSession()\n",
    "sess.as_default()\n",
    "tf.global_variables_initializer().run()"
   ]
  },
  {
   "cell_type": "markdown",
   "metadata": {},
   "source": [
    "### Sanity check, ensure that things are working"
   ]
  },
  {
   "cell_type": "code",
   "execution_count": 20,
   "metadata": {},
   "outputs": [
    {
     "name": "stdout",
     "output_type": "stream",
     "text": [
      "Initial mini-batch err: 88.33333333333333\n"
     ]
    },
    {
     "data": {
      "image/png": "[encoded data removed]",
      "text/plain": [
       "<Figure size 432x288 with 1 Axes>"
      ]
     },
     "metadata": {
      "needs_background": "light"
     },
     "output_type": "display_data"
    }
   ],
   "source": [
    "dat, lab = train_data[:BATCH_SIZE], train_labels[:BATCH_SIZE]\n",
    "\n",
    "feed_dict = {train_data_node:dat, train_label_node:lab }\n",
    "predictions, l = sess.run([probs, loss], feed_dict)\n",
    "\n",
    "err, confusions = utils.error_rate(predictions, lab), utils.confusions(predictions, lab)\n",
    "print(f\"Initial mini-batch err: {err}\")\n",
    "utils.plot_confusions(confusions);"
   ]
  },
  {
   "cell_type": "markdown",
   "metadata": {},
   "source": [
    "### Actual training"
   ]
  },
  {
   "cell_type": "code",
   "execution_count": 23,
   "metadata": {},
   "outputs": [
    {
     "data": {
      "application/vnd.jupyter.widget-view+json": {
       "model_id": "bd4aa57d2d3040b59f2644a8c56ff415",
       "version_major": 2,
       "version_minor": 0
      },
      "text/plain": [
       "HBox(children=(IntProgress(value=0, max=180), HTML(value='')))"
      ]
     },
     "metadata": {},
     "output_type": "display_data"
    },
    {
     "name": "stdout",
     "output_type": "stream",
     "text": [
      "Step 0 of 180\n",
      "Mini-batch loss: 5.167716979980469, error: 91.66666666666666, val error: 95.0\n",
      "Step 10 of 180\n",
      "Mini-batch loss: 5.235576152801514, error: 90.0, val error: 95.0\n",
      "Step 20 of 180\n",
      "Mini-batch loss: 5.402993202209473, error: 83.33333333333334, val error: 95.0\n",
      "Step 30 of 180\n",
      "Mini-batch loss: 5.235146999359131, error: 93.33333333333333, val error: 95.0\n",
      "Step 40 of 180\n",
      "Mini-batch loss: 5.154592037200928, error: 85.0, val error: 95.0\n",
      "Step 50 of 180\n",
      "Mini-batch loss: 5.292929649353027, error: 96.66666666666667, val error: 95.0\n",
      "Step 60 of 180\n",
      "Mini-batch loss: 5.352622032165527, error: 88.33333333333333, val error: 95.0\n",
      "Step 70 of 180\n",
      "Mini-batch loss: 5.203484535217285, error: 90.0, val error: 95.0\n",
      "Step 80 of 180\n",
      "Mini-batch loss: 5.273540496826172, error: 96.66666666666667, val error: 95.0\n",
      "Step 90 of 180\n",
      "Mini-batch loss: 5.256792068481445, error: 85.0, val error: 95.0\n",
      "Step 100 of 180\n",
      "Mini-batch loss: 5.267982482910156, error: 88.33333333333333, val error: 95.0\n",
      "Step 110 of 180\n",
      "Mini-batch loss: 5.204597473144531, error: 88.33333333333333, val error: 95.0\n",
      "Step 120 of 180\n",
      "Mini-batch loss: 5.176823616027832, error: 91.66666666666666, val error: 95.0\n",
      "Step 130 of 180\n",
      "Mini-batch loss: 5.297245502471924, error: 88.33333333333333, val error: 95.0\n",
      "Step 140 of 180\n",
      "Mini-batch loss: 5.479355335235596, error: 95.0, val error: 95.0\n",
      "Step 150 of 180\n",
      "Mini-batch loss: 5.295485019683838, error: 88.33333333333333, val error: 95.0\n",
      "Step 160 of 180\n",
      "Mini-batch loss: 5.114926338195801, error: 86.66666666666667, val error: 95.0\n",
      "Step 170 of 180\n",
      "Mini-batch loss: 5.194770812988281, error: 85.0, val error: 95.0\n"
     ]
    }
   ],
   "source": [
    "# Train over the first 1/4th of our training set.\n",
    "n_epoch = 20\n",
    "steps = (train_labels.shape[0] // BATCH_SIZE) * n_epoch\n",
    "ls = np.empty(steps)\n",
    "errs = np.empty(steps)\n",
    "big_compute = 10\n",
    "val_errs = np.empty(np.ceil(steps / big_compute).astype(int))\n",
    "\n",
    "for step in tnrange(steps):\n",
    "    # Compute the offset of the current minibatch in the data.\n",
    "    offset = (step * BATCH_SIZE) % (train_labels.shape[0] - BATCH_SIZE) # Should really randomize some\n",
    "    batch_data = train_data[offset:(offset + BATCH_SIZE), :, :, :]\n",
    "    batch_labels = train_labels[offset:(offset + BATCH_SIZE)]\n",
    "    feed_dict = {train_data_node: batch_data,\n",
    "                 train_label_node: batch_labels}\n",
    "    # Run the graph and fetch some of the nodes.\n",
    "    _, l, predictions = sess.run(\n",
    "      [update_weights, loss, probs],\n",
    "      feed_dict=feed_dict)\n",
    "    ls[step] = l\n",
    "    errs[step] = utils.error_rate(predictions, batch_labels)\n",
    "    \n",
    "    if step % big_compute == 0:\n",
    "        val_errs[step // big_compute] = utils.error_rate(val_out.eval(), val_labels)\n",
    "        print('Step %d of %d' % (step, steps))\n",
    "        print(\"Mini-batch loss: {}, error: {}, val error: {}\".format(ls[step], errs[step], val_errs[step // big_compute]))"
   ]
  },
  {
   "cell_type": "markdown",
   "metadata": {},
   "source": [
    "# Evaluation"
   ]
  },
  {
   "cell_type": "markdown",
   "metadata": {},
   "source": [
    "### Performance on test set"
   ]
  },
  {
   "cell_type": "code",
   "execution_count": 24,
   "metadata": {},
   "outputs": [
    {
     "data": {
      "text/plain": [
       "(19232,)"
      ]
     },
     "execution_count": 24,
     "metadata": {},
     "output_type": "execute_result"
    }
   ],
   "source": [
    "np.nonzero(np.sum(data, axis=0))[0].shape"
   ]
  },
  {
   "cell_type": "code",
   "execution_count": 25,
   "metadata": {},
   "outputs": [
    {
     "data": {
      "text/plain": [
       "array([0.09786761, 0.0787015 , 0.11206543, 0.10643248, 0.07950993,\n",
       "       0.09017812, 0.07547877, 0.09828056, 0.06878584, 0.09552026,\n",
       "       0.08909034, 0.07208169, 0.09803157, 0.14339827, 0.10343558,\n",
       "       0.11018957, 0.10347021, 0.0817204 , 0.11042266, 0.10464057,\n",
       "       0.11465823, 0.08319425, 0.09276707, 0.10022287, 0.08878502,\n",
       "       0.09915375, 0.1270005 , 0.07810514, 0.09391591, 0.10756237,\n",
       "       0.09057524, 0.10034668, 0.08904797, 0.1093352 , 0.09038431,\n",
       "       0.09612639, 0.09129227, 0.09468789, 0.10415152, 0.07380107,\n",
       "       0.07074554, 0.102719  , 0.09477496, 0.12598109, 0.09461672,\n",
       "       0.10163529, 0.09927732, 0.11244294, 0.10026262, 0.10323214,\n",
       "       0.08007536, 0.08748016, 0.10806621, 0.1033666 , 0.08416717,\n",
       "       0.10010932, 0.08847363, 0.06809842, 0.09509902, 0.06762474,\n",
       "       0.0988286 , 0.11199239, 0.0809077 , 0.09632008, 0.06027835,\n",
       "       0.1224689 , 0.09703808, 0.11102919, 0.07831938, 0.07611526,\n",
       "       0.08886359, 0.0688433 , 0.0975439 , 0.11207443, 0.07998138,\n",
       "       0.07679711, 0.10985848, 0.08302119, 0.11857011, 0.10145039,\n",
       "       0.07180157, 0.09648933, 0.09055477, 0.10199049, 0.10306492,\n",
       "       0.09341539, 0.09235246, 0.10211565, 0.07926433, 0.08946197,\n",
       "       0.0628754 , 0.08432823, 0.0927497 , 0.09845324, 0.09691062,\n",
       "       0.08876076, 0.08819646, 0.09833512, 0.09296837, 0.10126944,\n",
       "       0.09823159, 0.09956139, 0.12421682, 0.08680931, 0.08153763,\n",
       "       0.11020398, 0.1016404 , 0.08371337, 0.08655338, 0.11679998,\n",
       "       0.08668554, 0.09024808, 0.12660487, 0.11150541, 0.06618965,\n",
       "       0.09678399, 0.10799854, 0.10509404, 0.08804587, 0.09532567,\n",
       "       0.10036775, 0.10305604, 0.08732872, 0.11262925, 0.11886348,\n",
       "       0.09042264, 0.07801683, 0.06695631, 0.10462251, 0.09682321,\n",
       "       0.0897183 , 0.08480869, 0.10292471, 0.07996959, 0.10486055,\n",
       "       0.10480417, 0.09934779, 0.07032666, 0.1028581 , 0.10707707,\n",
       "       0.10309419, 0.08418721, 0.10190367, 0.09499539, 0.09011447,\n",
       "       0.10196882, 0.09164848, 0.10406418, 0.08179515, 0.09800735,\n",
       "       0.08966138, 0.0953399 , 0.07915682, 0.09014057, 0.09771945,\n",
       "       0.08621166, 0.0584264 , 0.0931017 , 0.08251936, 0.06986874,\n",
       "       0.11946929, 0.07732494, 0.1104976 , 0.08612444, 0.08811371,\n",
       "       0.09413403, 0.10800443, 0.11120749, 0.09438885, 0.1087098 ,\n",
       "       0.10007451, 0.09387051, 0.08885359, 0.09969402, 0.11393135,\n",
       "       0.10872785, 0.10125815, 0.08325119, 0.09596571, 0.11575947,\n",
       "       0.06384091, 0.09807283, 0.09657222, 0.10563818, 0.0995669 ,\n",
       "       0.09074342, 0.09135027, 0.11782755, 0.09961755, 0.0869012 ,\n",
       "       0.10006385, 0.08560299, 0.09660497, 0.0951247 , 0.09485603,\n",
       "       0.102462  , 0.0908795 , 0.09547878, 0.10780252, 0.10791285,\n",
       "       0.09950647, 0.08681452, 0.06639083, 0.10463845, 0.09075649,\n",
       "       0.08357719, 0.07431686, 0.08224878, 0.09660867, 0.09584534,\n",
       "       0.10004289, 0.08992011, 0.09245013, 0.10102436, 0.06389434,\n",
       "       0.07204286, 0.09961111, 0.08297342, 0.09410566, 0.0734318 ,\n",
       "       0.1016827 , 0.09960951, 0.10122795, 0.09116035, 0.09464049,\n",
       "       0.11202593, 0.07831918, 0.09630621, 0.09428808, 0.09820183,\n",
       "       0.10107659, 0.06968618, 0.099963  , 0.05234025, 0.09440712,\n",
       "       0.09422216, 0.11367915, 0.09170119, 0.09234187, 0.09743215,\n",
       "       0.0979052 , 0.09679331, 0.11070686, 0.10490165, 0.08720195,\n",
       "       0.10531494, 0.09330853, 0.07717411, 0.09505404, 0.10872206,\n",
       "       0.09043755, 0.09566086, 0.09353492, 0.10706392, 0.11063794,\n",
       "       0.09606433, 0.08814562, 0.09653151, 0.09956139, 0.09594966,\n",
       "       0.1036374 , 0.09429073, 0.10424989, 0.09129008, 0.08049368,\n",
       "       0.08446628, 0.09562876, 0.10876509, 0.09643238, 0.07706376,\n",
       "       0.08001361, 0.10143821, 0.09956139, 0.08374569, 0.08822443,\n",
       "       0.09232799, 0.07233743, 0.07961237, 0.11178097, 0.09360984,\n",
       "       0.11952928, 0.09223972, 0.11561044, 0.09633084, 0.10586249,\n",
       "       0.0785433 , 0.09579497, 0.08783714, 0.05886283, 0.09703499,\n",
       "       0.09816932, 0.11090598, 0.09546863, 0.09956139, 0.08493295,\n",
       "       0.10100892, 0.07227256, 0.0925326 , 0.09463296, 0.11102114,\n",
       "       0.11215532, 0.10969377, 0.08803993, 0.10925987, 0.09956139,\n",
       "       0.11285563, 0.09181356, 0.0960577 , 0.07679311, 0.07890517,\n",
       "       0.10508678, 0.08910833, 0.1000957 , 0.08248813, 0.09683791,\n",
       "       0.09917355, 0.08311184, 0.08979643, 0.10709403, 0.10970592,\n",
       "       0.0880257 , 0.07970959, 0.09669628, 0.08576047, 0.08898609,\n",
       "       0.10554254, 0.09799459, 0.0987692 , 0.11872365, 0.0962223 ,\n",
       "       0.08674954, 0.09956139, 0.09551602, 0.09300529, 0.09527694,\n",
       "       0.09971198, 0.05797353, 0.10237766, 0.07483193, 0.09075686,\n",
       "       0.0628236 , 0.07769077, 0.09404772, 0.09275278, 0.0764688 ,\n",
       "       0.10814629, 0.10923672, 0.10331941, 0.09956139, 0.10387971,\n",
       "       0.10345057, 0.09300949, 0.10345735, 0.09064691, 0.09849033,\n",
       "       0.09788015, 0.11772408, 0.09907071, 0.07577325, 0.10550014,\n",
       "       0.09273054, 0.09983662, 0.09115194, 0.0786655 , 0.10055975,\n",
       "       0.10628641, 0.10795023, 0.10163374, 0.09126098, 0.07684007,\n",
       "       0.11338721, 0.08960296, 0.07254802, 0.07810724, 0.09640086,\n",
       "       0.09492741, 0.10100465, 0.08569984, 0.12240335, 0.09239018,\n",
       "       0.10055676, 0.09014588, 0.06444144, 0.09154624, 0.10350048,\n",
       "       0.09318671, 0.108665  , 0.10472269, 0.09554689, 0.09794727,\n",
       "       0.11102458, 0.09609848, 0.11379649, 0.08697261, 0.10699069,\n",
       "       0.07813141, 0.0800636 , 0.08780395, 0.09546389, 0.10027281,\n",
       "       0.10193926, 0.09081401, 0.084726  , 0.10371059, 0.10102736,\n",
       "       0.09955245, 0.080736  , 0.09879545, 0.09114417, 0.09219454,\n",
       "       0.08809877, 0.10071079, 0.09956139, 0.08831424, 0.09208923,\n",
       "       0.09532424, 0.10799496, 0.07692922, 0.08698015, 0.10294878,\n",
       "       0.09405338, 0.09427559, 0.08525446, 0.08774638, 0.09232122,\n",
       "       0.11212377, 0.09891044, 0.08032314, 0.09972943, 0.08703844,\n",
       "       0.07319958, 0.08946731, 0.07342119, 0.09956139, 0.10806009,\n",
       "       0.0943614 , 0.07153536, 0.09545788, 0.08503982, 0.0947053 ,\n",
       "       0.10982051, 0.07959943, 0.07473166, 0.09350587, 0.08812658,\n",
       "       0.09628213, 0.09669831, 0.09943911, 0.08839707, 0.12402394,\n",
       "       0.07268358, 0.11800199, 0.06515259, 0.07548897, 0.1068293 ,\n",
       "       0.10205731, 0.09958753, 0.10487866, 0.08051983, 0.09962998,\n",
       "       0.0863306 , 0.11269621, 0.08654474, 0.0790318 , 0.09598314,\n",
       "       0.09377054, 0.0996545 , 0.11628024, 0.10183971, 0.1031626 ,\n",
       "       0.08629574, 0.12461792, 0.10504854, 0.07606693, 0.10323157,\n",
       "       0.10602292, 0.08882126, 0.10787909, 0.11876065, 0.08921602,\n",
       "       0.10074737, 0.10523994, 0.06097823, 0.11735974, 0.08979095,\n",
       "       0.11226003, 0.09430199, 0.10655377, 0.07880008, 0.09983484,\n",
       "       0.09372094, 0.10181671, 0.09956139, 0.09294905, 0.06804   ,\n",
       "       0.09974299, 0.07304422, 0.09253673, 0.10618237, 0.09566411,\n",
       "       0.10179696, 0.08247058, 0.09525286, 0.11709785, 0.11356767,\n",
       "       0.11047861, 0.09714562, 0.09457892, 0.09845692, 0.1007444 ,\n",
       "       0.09649415, 0.09658203], dtype=float32)"
      ]
     },
     "execution_count": 25,
     "metadata": {},
     "output_type": "execute_result"
    }
   ],
   "source": [
    "with tf.compat.v1.variable_scope(\"arch_4\", reuse=True):\n",
    "    conv_w1 = tf.compat.v1.get_variable(\"fc1_b\")\n",
    "conv_w1.eval()"
   ]
  },
  {
   "cell_type": "code",
   "execution_count": 26,
   "metadata": {},
   "outputs": [
    {
     "name": "stdout",
     "output_type": "stream",
     "text": [
      "Test error: 90.5\n"
     ]
    },
    {
     "data": {
      "image/png": "[encoded data removed]",
      "text/plain": [
       "<Figure size 432x288 with 1 Axes>"
      ]
     },
     "metadata": {
      "needs_background": "light"
     },
     "output_type": "display_data"
    }
   ],
   "source": [
    "predicted, actual = test_probs.eval(), test_label_node.eval()\n",
    "error = utils.error_rate(predicted, actual)\n",
    "confusions = utils.confusions(predicted, actual)\n",
    "print(f\"Test error: {error}\")\n",
    "utils.plot_confusions(confusions);"
   ]
  },
  {
   "cell_type": "code",
   "execution_count": null,
   "metadata": {},
   "outputs": [],
   "source": [
    "all([np.all(predicted[:, i] == predicted[0, i]) for i in range(10)])"
   ]
  },
  {
   "cell_type": "markdown",
   "metadata": {},
   "source": [
    "### Learning curves"
   ]
  },
  {
   "cell_type": "code",
   "execution_count": null,
   "metadata": {
    "scrolled": true
   },
   "outputs": [],
   "source": [
    "fig, ax = plt.subplots(1, 2, figsize=(12, 5))\n",
    "\n",
    "ax[0].plot(ls)\n",
    "ax[0].set_xlabel(\"Training Step\")\n",
    "ax[0].set_ylabel(\"Loss (cross-entropy)\")\n",
    "\n",
    "ax[1].plot(errs, label=\"Training Error\")\n",
    "ax[1].scatter(np.arange(val_errs.shape[0]) * big_compute, val_errs, label=\"Validation Error\", c='k')\n",
    "ax[1].set_xlabel(\"Training Step\")\n",
    "ax[1].set_ylabel(\"Error rate (\\%)\")\n",
    "ax[1].legend();"
   ]
  },
  {
   "cell_type": "code",
   "execution_count": null,
   "metadata": {
    "scrolled": true
   },
   "outputs": [],
   "source": [
    "dat, lab = train_data[:BATCH_SIZE], train_labels[:BATCH_SIZE]\n",
    "\n",
    "feed_dict = {train_data_node:dat, train_label_node:lab }\n",
    "predictions, l = sess.run([probs, loss], feed_dict)\n",
    "\n",
    "err, confusions = utils.error_rate(predictions, lab), utils.confusions(predictions, lab)\n",
    "print(f\"Initial mini-batch err: {err}\")\n",
    "utils.plot_confusions(confusions);"
   ]
  },
  {
   "cell_type": "markdown",
   "metadata": {},
   "source": [
    "### Failed stuff"
   ]
  },
  {
   "cell_type": "code",
   "execution_count": null,
   "metadata": {},
   "outputs": [],
   "source": [
    "t_dat = test_data.reshape(test_data.shape[:2])\n",
    "tr_dat = train_data.reshape(train_data.shape[:2])\n",
    "v_dat = val_data.reshape(val_data.shape[:2])"
   ]
  },
  {
   "cell_type": "code",
   "execution_count": null,
   "metadata": {},
   "outputs": [],
   "source": [
    "fig, ax = plt.subplots(1, 3, figsize=(12, 5))\n",
    "ax[0].imshow(tr_dat)\n",
    "ax[1].imshow(t_dat)\n",
    "ax[2].imshow(v_dat)"
   ]
  },
  {
   "cell_type": "code",
   "execution_count": null,
   "metadata": {},
   "outputs": [],
   "source": [
    "def checkIfSame(arr):\n",
    "    return all([np.all(arr[:, i] == arr[0, i]) for i in range(arr.shape[1])])"
   ]
  },
  {
   "cell_type": "code",
   "execution_count": null,
   "metadata": {},
   "outputs": [],
   "source": [
    "plt.imshow(test_data)"
   ]
  },
  {
   "cell_type": "markdown",
   "metadata": {},
   "source": [
    "### Failed stuff"
   ]
  },
  {
   "cell_type": "code",
   "execution_count": null,
   "metadata": {},
   "outputs": [],
   "source": [
    "# Do PCA\n",
    "pca = PCA(200)\n",
    "train_data = pca.fit_transform(train_data_s)\n",
    "test_data = pca.transform(test_data_s)\n",
    "data = pca.transform(data_0)"
   ]
  },
  {
   "cell_type": "code",
   "execution_count": null,
   "metadata": {},
   "outputs": [],
   "source": [
    "from scipy.stats import linregress\n",
    "cumvars = np.cumsum(pca.explained_variance_ratio_)\n",
    "i = 20\n",
    "res = linregress(np.arange(i, 200), cumvars[i:])\n",
    "m, b = res.slope, res.intercept\n",
    "plt.plot(cumvars)\n",
    "plt.plot(np.arange(200), m * np.arange(200) + b)\n",
    "(100 - b) / m"
   ]
  }
 ],
 "metadata": {
  "kernelspec": {
   "display_name": "Python 3",
   "language": "python",
   "name": "python3"
  },
  "language_info": {
   "codemirror_mode": {
    "name": "ipython",
    "version": 3
   },
   "file_extension": ".py",
   "mimetype": "text/x-python",
   "name": "python",
   "nbconvert_exporter": "python",
   "pygments_lexer": "ipython3",
   "version": "3.7.3"
  }
 },
 "nbformat": 4,
 "nbformat_minor": 4
}
