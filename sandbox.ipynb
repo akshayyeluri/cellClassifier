{
 "cells": [
  {
   "cell_type": "code",
   "execution_count": 21,
   "metadata": {},
   "outputs": [
    {
     "name": "stdout",
     "output_type": "stream",
     "text": [
      "Using gpu:  []\n"
     ]
    }
   ],
   "source": [
    "# Standard python imports\n",
    "import os\n",
    "import h5py\n",
    "import numpy as np\n",
    "import scipy.stats\n",
    "from tqdm import tqdm, tnrange, tqdm_notebook\n",
    "\n",
    "# Keras, tf, and sklearn\n",
    "import tensorflow as tf\n",
    "from sklearn.model_selection import train_test_split\n",
    "# Try seeing if we are using a gpu?\n",
    "from keras import backend as K\n",
    "sess = tf.Session(config=tf.ConfigProto(log_device_placement=True))\n",
    "K.set_session(sess)\n",
    "print(\"Using gpu: \", K.tensorflow_backend._get_available_gpus())\n",
    "\n",
    "# Make reproducible\n",
    "SEED = 32\n",
    "np.random.seed(SEED)\n",
    "tf.set_random_seed(SEED)\n",
    "\n",
    "# My module imports\n",
    "import utils\n",
    "from models import model_1d\n",
    "\n",
    "import matplotlib.pyplot as plt\n",
    "%matplotlib inline"
   ]
  },
  {
   "cell_type": "code",
   "execution_count": 4,
   "metadata": {},
   "outputs": [],
   "source": [
    "# Maybe get the data .mat file\n",
    "if not os.path.isfile(\"data.mat\"):\n",
    "    !wget https://www.dropbox.com/s/b1bnrj2f30xe1ns/xq_data_big.mat?dl=0\n",
    "    !mv 'xq_data_big.mat?dl=0' data.mat\n",
    "\n",
    "# Import the data from file\n",
    "f = h5py.File(\"data.mat\")\n",
    "data, labels = np.array(f['data']), np.array(f['labels'])\n",
    "f.close()"
   ]
  },
  {
   "cell_type": "code",
   "execution_count": 5,
   "metadata": {},
   "outputs": [],
   "source": [
    "# Get rid of zero columns\n",
    "colInds = np.sum(data, axis=0) != 0.0\n",
    "data = data[:, colInds]\n",
    "\n",
    "# Labels are off by 1 cuz matlab\n",
    "labels = labels - 1"
   ]
  },
  {
   "cell_type": "code",
   "execution_count": 23,
   "metadata": {},
   "outputs": [],
   "source": [
    "def jensen_shannon(ps, weights=None):\n",
    "    if weights is None:\n",
    "        weights = np.full(len(ps), 1 / len(ps))\n",
    "    tot = np.max([len(p) for p in ps])\n",
    "    ps = np.array([np.concatenate((p, np.zeros(tot - p.shape[0]))) for p in ps])\n",
    "    ps = ps / np.sum(ps, axis=1)[:, None]\n",
    "    t1 = scipy.stats.entropy(np.sum(ps * weights[:, None], axis=0))\n",
    "    t2 = np.dot(weights, [scipy.stats.entropy(p) for p in ps])\n",
    "    return t1 - t2\n",
    "\n",
    "def gene_relevance_metric(gene_vals, labels):\n",
    "    counts = [gene_vals[labels == l] for l in np.unique(labels)]\n",
    "    distributions = [np.bincount(val) for val in counts]\n",
    "    return jensen_shannon(distributions)"
   ]
  },
  {
   "cell_type": "code",
   "execution_count": 25,
   "metadata": {},
   "outputs": [
    {
     "name": "stdout",
     "output_type": "stream",
     "text": [
      "578 µs ± 12.5 µs per loop (mean ± std. dev. of 7 runs, 1000 loops each)\n"
     ]
    }
   ],
   "source": [
    "%timeit gene_relevance_metric(data[:, 0].astype(int), labels.squeeze().astype(int))"
   ]
  },
  {
   "cell_type": "code",
   "execution_count": 26,
   "metadata": {},
   "outputs": [
    {
     "data": {
      "application/vnd.jupyter.widget-view+json": {
       "model_id": "9b61c021e9f94abaaab2e3bec6dbe72f",
       "version_major": 2,
       "version_minor": 0
      },
      "text/plain": [
       "HBox(children=(IntProgress(value=0, max=19232), HTML(value='')))"
      ]
     },
     "metadata": {},
     "output_type": "display_data"
    },
    {
     "name": "stdout",
     "output_type": "stream",
     "text": [
      "\n"
     ]
    }
   ],
   "source": [
    "data_f = data.astype(int)\n",
    "labels_f = labels.squeeze().astype(int)\n",
    "gene_scores = np.array([gene_relevance_metric(data_f[:, i], labels_f) for i in tnrange(data_f.shape[1])])"
   ]
  },
  {
   "cell_type": "code",
   "execution_count": 27,
   "metadata": {},
   "outputs": [
    {
     "data": {
      "text/plain": [
       "array([0.00354302, 0.00034544, 0.00269851, ..., 0.00067114, 0.01083506,\n",
       "       0.01366661])"
      ]
     },
     "execution_count": 27,
     "metadata": {},
     "output_type": "execute_result"
    }
   ],
   "source": [
    "gene_scores"
   ]
  },
  {
   "cell_type": "code",
   "execution_count": 35,
   "metadata": {},
   "outputs": [],
   "source": [
    "inds = np.argsort(gene_scores)[::-1]"
   ]
  },
  {
   "cell_type": "code",
   "execution_count": 36,
   "metadata": {},
   "outputs": [],
   "source": [
    "data_shuffled = data[:, inds]\n",
    "data_shuffled = np.log1p(data_shuffled)"
   ]
  },
  {
   "cell_type": "code",
   "execution_count": 37,
   "metadata": {},
   "outputs": [
    {
     "data": {
      "image/png": "[encoded data removed]",
      "text/plain": [
       "<Figure size 432x288 with 1 Axes>"
      ]
     },
     "metadata": {
      "needs_background": "light"
     },
     "output_type": "display_data"
    }
   ],
   "source": [
    "# Visualize data with labels\n",
    "labels_scaled = labels * (data_shuffled.max() - data_shuffled.min()) / labels.max() - data_shuffled.min()\n",
    "plt.imshow(np.hstack((data_shuffled, np.repeat(labels_scaled, data.shape[1] //  10, axis=1))))\n",
    "plt.xlabel(\"Gene index (Colorbar at end is label)\")\n",
    "plt.ylabel(\"Cell index\");"
   ]
  },
  {
   "cell_type": "code",
   "execution_count": null,
   "metadata": {},
   "outputs": [],
   "source": []
  }
 ],
 "metadata": {
  "kernelspec": {
   "display_name": "neural",
   "language": "python",
   "name": "neural"
  },
  "language_info": {
   "codemirror_mode": {
    "name": "ipython",
    "version": 3
   },
   "file_extension": ".py",
   "mimetype": "text/x-python",
   "name": "python",
   "nbconvert_exporter": "python",
   "pygments_lexer": "ipython3",
   "version": "3.6.7"
  }
 },
 "nbformat": 4,
 "nbformat_minor": 2
}
