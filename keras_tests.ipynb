{
 "cells": [
  {
   "cell_type": "code",
   "execution_count": 1,
   "metadata": {},
   "outputs": [
    {
     "name": "stderr",
     "output_type": "stream",
     "text": [
      "Using TensorFlow backend.\n"
     ]
    },
    {
     "name": "stdout",
     "output_type": "stream",
     "text": [
      "Using gpu:  ['/job:localhost/replica:0/task:0/device:GPU:0']\n"
     ]
    }
   ],
   "source": [
    "# Standard python imports\n",
    "import os\n",
    "import h5py\n",
    "import numpy as np\n",
    "import pandas as pd\n",
    "from tqdm import tqdm, tnrange, tqdm_notebook\n",
    "\n",
    "# Keras, tf, and sklearn\n",
    "import tensorflow as tf\n",
    "from sklearn.model_selection import train_test_split\n",
    "# Try seeing if we are using a gpu?\n",
    "from keras import backend as K\n",
    "sess = tf.Session(config=tf.ConfigProto(log_device_placement=True))\n",
    "K.set_session(sess)\n",
    "print(\"Using gpu: \", K.tensorflow_backend._get_available_gpus())\n",
    "\n",
    "# Make reproducible\n",
    "SEED = 32\n",
    "np.random.seed(SEED)\n",
    "tf.set_random_seed(SEED)\n",
    "\n",
    "# My module imports\n",
    "import utils\n",
    "from models import model_1d\n",
    "\n",
    "import matplotlib.pyplot as plt\n",
    "%matplotlib inline"
   ]
  },
  {
   "cell_type": "markdown",
   "metadata": {},
   "source": [
    "# Data Processing"
   ]
  },
  {
   "cell_type": "code",
   "execution_count": 2,
   "metadata": {},
   "outputs": [],
   "source": [
    "# Maybe get the data .mat file\n",
    "if not os.path.isfile(\"data.mat\"):\n",
    "    !wget https://www.dropbox.com/s/b1bnrj2f30xe1ns/xq_data_big.mat?dl=0\n",
    "    !mv 'xq_data_big.mat?dl=0' data.mat\n",
    "\n",
    "# Import the data from file\n",
    "f = h5py.File(\"data.mat\")\n",
    "data, labels = np.array(f['data']), np.array(f['labels'])\n",
    "f.close()"
   ]
  },
  {
   "cell_type": "code",
   "execution_count": 3,
   "metadata": {},
   "outputs": [
    {
     "data": {
      "image/png": "[encoded data removed]",
      "text/plain": [
       "<Figure size 432x288 with 1 Axes>"
      ]
     },
     "metadata": {
      "needs_background": "light"
     },
     "output_type": "display_data"
    }
   ],
   "source": [
    "# colInds = pd.read_csv(\"assets/divergence.csv\")[\"Gene_index\"].values\n",
    "colInds = np.where(np.sum(data, axis=0) != 0.0)[0]\n",
    "data = utils.preprocess(data, colInds)\n",
    "\n",
    "# Quickly check I'm not crazy\n",
    "indices_in_orig = pd.read_csv(\"assets/divergences.csv\")[\"Gene_index\"].values # Values in original data_matrix\n",
    "indices = [list(colInds).index(ind) for ind in indices_in_orig] # Values in sliced data_matrix (no zero_columns)\n",
    "zero_cols = np.array(indices[300:])\n",
    "data[:, zero_cols] = 0\n",
    "\n",
    "# Labels are off by 1 cuz matlab\n",
    "labels = labels.squeeze().astype(int) - 1\n",
    "\n",
    "utils.visualize_data(data, labels);"
   ]
  },
  {
   "cell_type": "code",
   "execution_count": 4,
   "metadata": {},
   "outputs": [],
   "source": [
    "# Parameters to use for the rest of this workflow\n",
    "BATCH_SIZE = 60\n",
    "TEST_PROP = 0.1\n",
    "VAL_PROP = 0.1\n",
    "NCLASS = 10\n",
    "NFEATURES = data.shape[1]"
   ]
  },
  {
   "cell_type": "code",
   "execution_count": 5,
   "metadata": {},
   "outputs": [
    {
     "name": "stdout",
     "output_type": "stream",
     "text": [
      "[0. 0. 1. 0. 0. 0. 0. 0. 0. 0.]\n"
     ]
    },
    {
     "data": {
      "image/png": "[encoded data removed]",
      "text/plain": [
       "<Figure size 432x288 with 1 Axes>"
      ]
     },
     "metadata": {
      "needs_background": "light"
     },
     "output_type": "display_data"
    }
   ],
   "source": [
    "# Get test and training\n",
    "train_data, test_data, train_labels, test_labels = train_test_split(data, labels, test_size=TEST_PROP)\n",
    "\n",
    "# Convert labels to one-hot format\n",
    "train_labels = (np.arange(NCLASS) == train_labels[:, None]).astype(np.float32)\n",
    "test_labels = (np.arange(NCLASS) == test_labels[:, None]).astype(np.float32)\n",
    "\n",
    "# Sanity check to make sure data is not crazy\n",
    "plt.subplot(111).hist(train_data[0].flatten(), bins=20)\n",
    "print(train_labels[0])"
   ]
  },
  {
   "cell_type": "code",
   "execution_count": 6,
   "metadata": {},
   "outputs": [],
   "source": [
    "# Reshape the data\n",
    "test_data = test_data[:, :, None, None]\n",
    "train_data = train_data[:, :, None, None]"
   ]
  },
  {
   "cell_type": "markdown",
   "metadata": {},
   "source": [
    "# Model Definition"
   ]
  },
  {
   "cell_type": "code",
   "execution_count": 7,
   "metadata": {},
   "outputs": [
    {
     "name": "stdout",
     "output_type": "stream",
     "text": [
      "WARNING:tensorflow:From /gdn/centos7/0001/x3/prefixes/tensorflow-gpu/1.13.0-rc2-cudnn7.4-cuda10.0-02c7__08bb4fa58415/lib/python3.7/site-packages/tensorflow/python/framework/op_def_library.py:263: colocate_with (from tensorflow.python.framework.ops) is deprecated and will be removed in a future version.\n",
      "Instructions for updating:\n",
      "Colocations handled automatically by placer.\n"
     ]
    }
   ],
   "source": [
    "#model = model_1d(NFEATURES, conv_channels=[16, 16, 32, 64], dense_neurons=[512], n_class=NCLASS, \\\n",
    "#                 conv_ks=[10, 10, 10, 2], \\\n",
    "#                 pool_ks=[2, 4, 4, 12], \\\n",
    "#                 pads=['same', 'same', 'same', 'valid'], \\\n",
    "#                 dropout_strength=0.5)\n",
    "\n",
    "model = model_1d(NFEATURES, conv_channels=[16, 16, 32, 64, 128], dense_neurons=[512], n_class=NCLASS, \\\n",
    "                 conv_ks=[20, 10, 10, 2, 5], \\\n",
    "                 pool_ks=[2, 4, 4, 4, 3], \\\n",
    "                 pads=['same', 'same', 'same', 'valid', 'same'], \\\n",
    "                 pool_type='max',\\\n",
    "                 dropout_strength=0.5)"
   ]
  },
  {
   "cell_type": "markdown",
   "metadata": {},
   "source": [
    "# Training / Evaluation"
   ]
  },
  {
   "cell_type": "code",
   "execution_count": 8,
   "metadata": {},
   "outputs": [
    {
     "name": "stdout",
     "output_type": "stream",
     "text": [
      "WARNING:tensorflow:From /gdn/centos7/0001/x3/prefixes/keras/2.2.4-03c7__c7e09d671a6a/lib/python3.7/site-packages/keras/backend/tensorflow_backend.py:3445: calling dropout (from tensorflow.python.ops.nn_ops) with keep_prob is deprecated and will be removed in a future version.\n",
      "Instructions for updating:\n",
      "Please use `rate` instead of `keep_prob`. Rate should be set to `rate = 1 - keep_prob`.\n",
      "WARNING:tensorflow:From /gdn/centos7/0001/x3/prefixes/tensorflow-gpu/1.13.0-rc2-cudnn7.4-cuda10.0-02c7__08bb4fa58415/lib/python3.7/site-packages/tensorflow/python/ops/math_ops.py:3066: to_int32 (from tensorflow.python.ops.math_ops) is deprecated and will be removed in a future version.\n",
      "Instructions for updating:\n",
      "Use tf.cast instead.\n",
      "Train on 16200 samples, validate on 1800 samples\n",
      "Epoch 1/10\n",
      "16200/16200 [==============================] - 13s 830us/step - loss: 0.8748 - acc: 0.6667 - val_loss: 0.4767 - val_acc: 0.8111\n",
      "Epoch 2/10\n",
      "16200/16200 [==============================] - 12s 731us/step - loss: 0.5443 - acc: 0.7802 - val_loss: 0.4603 - val_acc: 0.8117\n",
      "Epoch 3/10\n",
      "16200/16200 [==============================] - 12s 723us/step - loss: 0.4856 - acc: 0.8012 - val_loss: 0.4168 - val_acc: 0.8317\n",
      "Epoch 4/10\n",
      "16200/16200 [==============================] - 12s 715us/step - loss: 0.4456 - acc: 0.8169 - val_loss: 0.4137 - val_acc: 0.8306\n",
      "Epoch 5/10\n",
      "16200/16200 [==============================] - 12s 720us/step - loss: 0.4064 - acc: 0.8339 - val_loss: 0.3852 - val_acc: 0.8450\n",
      "Epoch 6/10\n",
      "16200/16200 [==============================] - 12s 717us/step - loss: 0.3682 - acc: 0.8485 - val_loss: 0.3400 - val_acc: 0.8539\n",
      "Epoch 7/10\n",
      "16200/16200 [==============================] - 12s 727us/step - loss: 0.3436 - acc: 0.8567 - val_loss: 0.3199 - val_acc: 0.8667\n",
      "Epoch 8/10\n",
      "16200/16200 [==============================] - 12s 724us/step - loss: 0.3186 - acc: 0.8657 - val_loss: 0.3223 - val_acc: 0.8656\n",
      "Epoch 9/10\n",
      "16200/16200 [==============================] - 11s 706us/step - loss: 0.3037 - acc: 0.8696 - val_loss: 0.2891 - val_acc: 0.8867\n",
      "Epoch 10/10\n",
      "16200/16200 [==============================] - 12s 718us/step - loss: 0.2880 - acc: 0.8785 - val_loss: 0.3028 - val_acc: 0.8728\n"
     ]
    },
    {
     "data": {
      "text/plain": [
       "<keras.callbacks.History at 0x7f36c85370f0>"
      ]
     },
     "execution_count": 8,
     "metadata": {},
     "output_type": "execute_result"
    }
   ],
   "source": [
    "model.fit(train_data, train_labels, \n",
    "          batch_size=BATCH_SIZE, epochs=10,\\\n",
    "          validation_split=VAL_PROP, verbose=1)"
   ]
  },
  {
   "cell_type": "code",
   "execution_count": 9,
   "metadata": {},
   "outputs": [
    {
     "name": "stdout",
     "output_type": "stream",
     "text": [
      "2000/2000 [==============================] - 1s 269us/step\n",
      "Test loss: 0.3099774661064148\n",
      "Test accuracy: 0.877\n"
     ]
    }
   ],
   "source": [
    "loss, acc = model.evaluate(test_data, test_labels)\n",
    "print(f\"Test loss: {loss}\")\n",
    "print(f\"Test accuracy: {acc}\")"
   ]
  },
  {
   "cell_type": "code",
   "execution_count": 10,
   "metadata": {
    "scrolled": true
   },
   "outputs": [
    {
     "data": {
      "image/png": "[encoded data removed]",
      "text/plain": [
       "<Figure size 432x288 with 1 Axes>"
      ]
     },
     "metadata": {
      "needs_background": "light"
     },
     "output_type": "display_data"
    }
   ],
   "source": [
    "preds = model.predict(test_data)\n",
    "conf = utils.confusions(preds, test_labels)\n",
    "utils.plot_confusions(conf);"
   ]
  },
  {
   "cell_type": "code",
   "execution_count": 11,
   "metadata": {},
   "outputs": [
    {
     "data": {
      "text/html": [
       "<div>\n",
       "<style scoped>\n",
       "    .dataframe tbody tr th:only-of-type {\n",
       "        vertical-align: middle;\n",
       "    }\n",
       "\n",
       "    .dataframe tbody tr th {\n",
       "        vertical-align: top;\n",
       "    }\n",
       "\n",
       "    .dataframe thead th {\n",
       "        text-align: right;\n",
       "    }\n",
       "</style>\n",
       "<table border=\"1\" class=\"dataframe\">\n",
       "  <thead>\n",
       "    <tr style=\"text-align: right;\">\n",
       "      <th></th>\n",
       "      <th>Class</th>\n",
       "      <th>precision</th>\n",
       "      <th>recall</th>\n",
       "    </tr>\n",
       "  </thead>\n",
       "  <tbody>\n",
       "    <tr>\n",
       "      <th>0</th>\n",
       "      <td>0</td>\n",
       "      <td>1.000000</td>\n",
       "      <td>1.000000</td>\n",
       "    </tr>\n",
       "    <tr>\n",
       "      <th>1</th>\n",
       "      <td>1</td>\n",
       "      <td>1.000000</td>\n",
       "      <td>0.995614</td>\n",
       "    </tr>\n",
       "    <tr>\n",
       "      <th>2</th>\n",
       "      <td>2</td>\n",
       "      <td>0.989362</td>\n",
       "      <td>1.000000</td>\n",
       "    </tr>\n",
       "    <tr>\n",
       "      <th>3</th>\n",
       "      <td>3</td>\n",
       "      <td>0.604651</td>\n",
       "      <td>0.753623</td>\n",
       "    </tr>\n",
       "    <tr>\n",
       "      <th>4</th>\n",
       "      <td>4</td>\n",
       "      <td>1.000000</td>\n",
       "      <td>0.989950</td>\n",
       "    </tr>\n",
       "    <tr>\n",
       "      <th>5</th>\n",
       "      <td>5</td>\n",
       "      <td>0.904192</td>\n",
       "      <td>0.794737</td>\n",
       "    </tr>\n",
       "    <tr>\n",
       "      <th>6</th>\n",
       "      <td>6</td>\n",
       "      <td>0.904977</td>\n",
       "      <td>0.985222</td>\n",
       "    </tr>\n",
       "    <tr>\n",
       "      <th>7</th>\n",
       "      <td>7</td>\n",
       "      <td>0.847716</td>\n",
       "      <td>0.888298</td>\n",
       "    </tr>\n",
       "    <tr>\n",
       "      <th>8</th>\n",
       "      <td>8</td>\n",
       "      <td>0.721698</td>\n",
       "      <td>0.746341</td>\n",
       "    </tr>\n",
       "    <tr>\n",
       "      <th>9</th>\n",
       "      <td>9</td>\n",
       "      <td>0.881481</td>\n",
       "      <td>0.607143</td>\n",
       "    </tr>\n",
       "  </tbody>\n",
       "</table>\n",
       "</div>"
      ],
      "text/plain": [
       "   Class  precision    recall\n",
       "0      0   1.000000  1.000000\n",
       "1      1   1.000000  0.995614\n",
       "2      2   0.989362  1.000000\n",
       "3      3   0.604651  0.753623\n",
       "4      4   1.000000  0.989950\n",
       "5      5   0.904192  0.794737\n",
       "6      6   0.904977  0.985222\n",
       "7      7   0.847716  0.888298\n",
       "8      8   0.721698  0.746341\n",
       "9      9   0.881481  0.607143"
      ]
     },
     "execution_count": 11,
     "metadata": {},
     "output_type": "execute_result"
    }
   ],
   "source": [
    "mets = {'Class': np.arange(NCLASS)}\n",
    "mets.update({metric:utils.perf_metric(preds, test_labels, metric=metric) for metric in ['precision', 'recall']})\n",
    "df = pd.DataFrame(mets)\n",
    "df"
   ]
  },
  {
   "cell_type": "markdown",
   "metadata": {},
   "source": [
    "# Saving / Summary"
   ]
  },
  {
   "cell_type": "code",
   "execution_count": 12,
   "metadata": {},
   "outputs": [
    {
     "name": "stdout",
     "output_type": "stream",
     "text": [
      "_________________________________________________________________\n",
      "Layer (type)                 Output Shape              Param #   \n",
      "=================================================================\n",
      "conv2d_2 (Conv2D)            (None, 19232, 1, 16)      176       \n",
      "_________________________________________________________________\n",
      "max_pooling2d_1 (MaxPooling2 (None, 4808, 1, 16)       0         \n",
      "_________________________________________________________________\n",
      "conv2d_3 (Conv2D)            (None, 4808, 1, 32)       5152      \n",
      "_________________________________________________________________\n",
      "max_pooling2d_2 (MaxPooling2 (None, 1202, 1, 32)       0         \n",
      "_________________________________________________________________\n",
      "conv2d_4 (Conv2D)            (None, 1201, 1, 64)       4160      \n",
      "_________________________________________________________________\n",
      "max_pooling2d_3 (MaxPooling2 (None, 300, 1, 64)        0         \n",
      "_________________________________________________________________\n",
      "conv2d_5 (Conv2D)            (None, 300, 1, 128)       41088     \n",
      "_________________________________________________________________\n",
      "max_pooling2d_4 (MaxPooling2 (None, 100, 1, 128)       0         \n",
      "_________________________________________________________________\n",
      "flatten_1 (Flatten)          (None, 12800)             0         \n",
      "_________________________________________________________________\n",
      "dense_1 (Dense)              (None, 512)               6554112   \n",
      "_________________________________________________________________\n",
      "dropout_1 (Dropout)          (None, 512)               0         \n",
      "_________________________________________________________________\n",
      "dense_2 (Dense)              (None, 10)                5130      \n",
      "=================================================================\n",
      "Total params: 6,609,818\n",
      "Trainable params: 6,609,818\n",
      "Non-trainable params: 0\n",
      "_________________________________________________________________\n"
     ]
    }
   ],
   "source": [
    "model.summary()"
   ]
  },
  {
   "cell_type": "code",
   "execution_count": 13,
   "metadata": {},
   "outputs": [],
   "source": [
    "fName = \"test_model.h5\"\n",
    "model.save(fName)"
   ]
  },
  {
   "cell_type": "markdown",
   "metadata": {},
   "source": [
    "# Reloading saved model"
   ]
  },
  {
   "cell_type": "code",
   "execution_count": 14,
   "metadata": {},
   "outputs": [],
   "source": [
    "from keras.models import load_model\n",
    "model = load_model(\"test_model.h5\")"
   ]
  },
  {
   "cell_type": "code",
   "execution_count": 15,
   "metadata": {},
   "outputs": [
    {
     "name": "stdout",
     "output_type": "stream",
     "text": [
      "18000/18000 [==============================] - 5s 259us/step\n",
      "Train loss: 0.23978653550810283\n",
      "Train accuracy: 0.9003333333333333\n"
     ]
    }
   ],
   "source": [
    "loss, acc = model.evaluate(train_data, train_labels)\n",
    "print(f\"Train loss: {loss}\")\n",
    "print(f\"Train accuracy: {acc}\")"
   ]
  },
  {
   "cell_type": "code",
   "execution_count": 16,
   "metadata": {},
   "outputs": [
    {
     "name": "stdout",
     "output_type": "stream",
     "text": [
      "2000/2000 [==============================] - 0s 245us/step\n",
      "Test loss: 0.3099774661064148\n",
      "Test accuracy: 0.877\n"
     ]
    }
   ],
   "source": [
    "loss, acc = model.evaluate(test_data, test_labels)\n",
    "print(f\"Test loss: {loss}\")\n",
    "print(f\"Test accuracy: {acc}\")"
   ]
  }
 ],
 "metadata": {
  "kernelspec": {
   "display_name": "Python 3",
   "language": "python",
   "name": "python3"
  },
  "language_info": {
   "codemirror_mode": {
    "name": "ipython",
    "version": 3
   },
   "file_extension": ".py",
   "mimetype": "text/x-python",
   "name": "python",
   "nbconvert_exporter": "python",
   "pygments_lexer": "ipython3",
   "version": "3.7.3"
  }
 },
 "nbformat": 4,
 "nbformat_minor": 2
}
