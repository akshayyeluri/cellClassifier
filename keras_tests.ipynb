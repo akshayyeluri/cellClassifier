{
 "cells": [
  {
   "cell_type": "code",
   "execution_count": 1,
   "metadata": {},
   "outputs": [
    {
     "name": "stderr",
     "output_type": "stream",
     "text": [
      "Using TensorFlow backend.\n"
     ]
    }
   ],
   "source": [
    "# Standard python imports\n",
    "import os\n",
    "import h5py\n",
    "import numpy as np\n",
    "from tqdm import tqdm, tnrange, tqdm_notebook\n",
    "\n",
    "# My module imports\n",
    "import utils\n",
    "\n",
    "# Keras, tf, and sklear\n",
    "import keras\n",
    "from keras.models import Sequential\n",
    "from keras.layers import Dense, Dropout, Activation, Flatten\n",
    "from keras.layers import Convolution2D, MaxPooling2D, AvgPool2D\n",
    "import tensorflow as tf\n",
    "from sklearn.model_selection import train_test_split\n",
    "\n",
    "# Make reproducible\n",
    "SEED = 32\n",
    "np.random.seed(SEED)\n",
    "tf.set_random_seed(SEED)\n",
    "\n",
    "import matplotlib.pyplot as plt\n",
    "%matplotlib inline"
   ]
  },
  {
   "cell_type": "markdown",
   "metadata": {},
   "source": [
    "# Data Processing"
   ]
  },
  {
   "cell_type": "code",
   "execution_count": 2,
   "metadata": {},
   "outputs": [],
   "source": [
    "# Maybe get the data .mat file\n",
    "if not os.path.isfile(\"data.mat\"):\n",
    "    !wget https://www.dropbox.com/s/b1bnrj2f30xe1ns/xq_data_big.mat?dl=0\n",
    "    !mv 'xq_data_big.mat?dl=0' data.mat\n",
    "\n",
    "# Import the data from file\n",
    "f = h5py.File(\"data.mat\")\n",
    "data, labels = np.array(f['data']), np.array(f['labels'])\n",
    "f.close()"
   ]
  },
  {
   "cell_type": "code",
   "execution_count": 3,
   "metadata": {},
   "outputs": [],
   "source": [
    "# Get rid of zero columns\n",
    "colInds = np.sum(data, axis=0) != 0.0\n",
    "data = data[:, colInds]\n",
    "\n",
    "# Normalize\n",
    "data = np.log1p(data)"
   ]
  },
  {
   "cell_type": "code",
   "execution_count": 4,
   "metadata": {},
   "outputs": [
    {
     "data": {
      "image/png": "[encoded data removed]",
      "text/plain": [
       "<Figure size 432x288 with 1 Axes>"
      ]
     },
     "metadata": {
      "needs_background": "light"
     },
     "output_type": "display_data"
    }
   ],
   "source": [
    "# Visualize data with labels\n",
    "labels_scaled = labels * (data.max() - data.min()) / labels.max() - data.min()\n",
    "plt.imshow(np.hstack((data, np.repeat(labels_scaled, data.shape[1] //  10, axis=1))))\n",
    "plt.xlabel(\"Gene index (Colorbar at end is label)\")\n",
    "plt.ylabel(\"Cell index\");"
   ]
  },
  {
   "cell_type": "code",
   "execution_count": 5,
   "metadata": {},
   "outputs": [],
   "source": [
    "# Parameters to use for the rest of this workflow\n",
    "BATCH_SIZE = 60\n",
    "TEST_PROP = 0.1\n",
    "VAL_PROP = 0.1\n",
    "NCLASS = 10\n",
    "NFEATURES = data.shape[1]"
   ]
  },
  {
   "cell_type": "code",
   "execution_count": 6,
   "metadata": {},
   "outputs": [
    {
     "name": "stdout",
     "output_type": "stream",
     "text": [
      "[0. 0. 0. 1. 0. 0. 0. 0. 0. 0.]\n"
     ]
    },
    {
     "data": {
      "image/png": "[encoded data removed]",
      "text/plain": [
       "<Figure size 432x288 with 1 Axes>"
      ]
     },
     "metadata": {
      "needs_background": "light"
     },
     "output_type": "display_data"
    }
   ],
   "source": [
    "# Get test and training\n",
    "train_data, test_data, train_labels, test_labels = train_test_split(data, labels, test_size=TEST_PROP)\n",
    "\n",
    "# Convert labels to one-hot format\n",
    "train_labels = (np.arange(NCLASS) == train_labels).astype(np.float32)\n",
    "test_labels = (np.arange(NCLASS) == test_labels).astype(np.float32)\n",
    "\n",
    "# Sanity check to make sure data is not crazy\n",
    "plt.subplot(111).hist(train_data[0].flatten(), bins=20)\n",
    "print(train_labels[0])"
   ]
  },
  {
   "cell_type": "code",
   "execution_count": 7,
   "metadata": {},
   "outputs": [],
   "source": [
    "# Reshape the data\n",
    "test_data = test_data[:, :, None, None]\n",
    "train_data = train_data[:, :, None, None]"
   ]
  },
  {
   "cell_type": "markdown",
   "metadata": {},
   "source": [
    "# Model Definition"
   ]
  },
  {
   "cell_type": "code",
   "execution_count": 8,
   "metadata": {},
   "outputs": [
    {
     "name": "stdout",
     "output_type": "stream",
     "text": [
      "WARNING:tensorflow:From /gdn/centos7/0001/x3/prefixes/tensorflow/1.13.0c7__beed65942abf/lib/python3.7/site-packages/tensorflow/python/framework/op_def_library.py:263: colocate_with (from tensorflow.python.framework.ops) is deprecated and will be removed in a future version.\n",
      "Instructions for updating:\n",
      "Colocations handled automatically by placer.\n",
      "WARNING:tensorflow:From /gdn/centos7/0001/x3/prefixes/keras/2.2.4-03c7__c7e09d671a6a/lib/python3.7/site-packages/keras/backend/tensorflow_backend.py:3445: calling dropout (from tensorflow.python.ops.nn_ops) with keep_prob is deprecated and will be removed in a future version.\n",
      "Instructions for updating:\n",
      "Please use `rate` instead of `keep_prob`. Rate should be set to `rate = 1 - keep_prob`.\n"
     ]
    }
   ],
   "source": [
    "model = Sequential()\n",
    "\n",
    "model.add(Convolution2D(16, (10, 1), activation='relu', input_shape=(NFEATURES,1,1), padding='same'))\n",
    "model.add(AvgPool2D(pool_size=(2,1)))\n",
    "model.add(Convolution2D(16, (10, 1), activation='relu', padding='same'))\n",
    "model.add(AvgPool2D(pool_size=(4,1)))\n",
    "model.add(Convolution2D(32, (10, 1), activation='relu', padding='same'))\n",
    "model.add(AvgPool2D(pool_size=(4,1)))\n",
    "model.add(Convolution2D(64, (2, 1), activation='relu', padding='valid'))\n",
    "model.add(AvgPool2D(pool_size=(12,1)))\n",
    "\n",
    "model.add(Flatten())\n",
    "model.add(Dense(512, activation='relu'))\n",
    "model.add(Dropout(0.5))\n",
    "model.add(Dense(10, activation='softmax'))"
   ]
  },
  {
   "cell_type": "code",
   "execution_count": 9,
   "metadata": {},
   "outputs": [],
   "source": [
    "# 8. Compile model\n",
    "model.compile(loss='categorical_crossentropy',\n",
    "              optimizer='adam',\n",
    "              metrics=['accuracy'])"
   ]
  },
  {
   "cell_type": "markdown",
   "metadata": {},
   "source": [
    "# Training / Evaluation"
   ]
  },
  {
   "cell_type": "code",
   "execution_count": 10,
   "metadata": {},
   "outputs": [
    {
     "name": "stdout",
     "output_type": "stream",
     "text": [
      "WARNING:tensorflow:From /gdn/centos7/0001/x3/prefixes/tensorflow/1.13.0c7__beed65942abf/lib/python3.7/site-packages/tensorflow/python/ops/math_ops.py:3066: to_int32 (from tensorflow.python.ops.math_ops) is deprecated and will be removed in a future version.\n",
      "Instructions for updating:\n",
      "Use tf.cast instead.\n",
      "Train on 16200 samples, validate on 1800 samples\n",
      "Epoch 1/5\n",
      "16200/16200 [==============================] - 92s 6ms/step - loss: 1.4634 - acc: 0.3535 - val_loss: 0.9622 - val_acc: 0.5611\n",
      "Epoch 2/5\n",
      "16200/16200 [==============================] - 92s 6ms/step - loss: 0.9560 - acc: 0.5257 - val_loss: 0.7533 - val_acc: 0.6000\n",
      "Epoch 3/5\n",
      "16200/16200 [==============================] - 91s 6ms/step - loss: 0.8074 - acc: 0.5797 - val_loss: 0.6701 - val_acc: 0.6472\n",
      "Epoch 4/5\n",
      "16200/16200 [==============================] - 90s 6ms/step - loss: 0.7393 - acc: 0.6075 - val_loss: 0.6552 - val_acc: 0.6500\n",
      "Epoch 5/5\n",
      "16200/16200 [==============================] - 91s 6ms/step - loss: 0.6970 - acc: 0.6246 - val_loss: 0.6146 - val_acc: 0.6650\n"
     ]
    },
    {
     "data": {
      "text/plain": [
       "<keras.callbacks.History at 0x7fdeb2d94898>"
      ]
     },
     "execution_count": 10,
     "metadata": {},
     "output_type": "execute_result"
    }
   ],
   "source": [
    " # 9. Fit model on training data\n",
    "model.fit(train_data, train_labels, \n",
    "          batch_size=BATCH_SIZE, epochs=5,\\\n",
    "          validation_split=0.1, verbose=1)"
   ]
  },
  {
   "cell_type": "code",
   "execution_count": 11,
   "metadata": {},
   "outputs": [
    {
     "name": "stdout",
     "output_type": "stream",
     "text": [
      "2000/2000 [==============================] - 3s 2ms/step\n",
      "Test loss: 0.6488686985969544\n",
      "Test accuracy: 0.643\n"
     ]
    }
   ],
   "source": [
    "loss, acc = model.evaluate(test_data, test_labels)\n",
    "print(f\"Test loss: {loss}\")\n",
    "print(f\"Test accuracy: {acc}\")"
   ]
  },
  {
   "cell_type": "code",
   "execution_count": 12,
   "metadata": {},
   "outputs": [
    {
     "data": {
      "image/png": "[encoded data removed]",
      "text/plain": [
       "<Figure size 432x288 with 1 Axes>"
      ]
     },
     "metadata": {
      "needs_background": "light"
     },
     "output_type": "display_data"
    }
   ],
   "source": [
    "preds = model.predict(test_data)\n",
    "conf = utils.confusions(preds, test_labels)\n",
    "utils.plot_confusions(conf);"
   ]
  }
 ],
 "metadata": {
  "kernelspec": {
   "display_name": "Python 3",
   "language": "python",
   "name": "python3"
  },
  "language_info": {
   "codemirror_mode": {
    "name": "ipython",
    "version": 3
   },
   "file_extension": ".py",
   "mimetype": "text/x-python",
   "name": "python",
   "nbconvert_exporter": "python",
   "pygments_lexer": "ipython3",
   "version": "3.7.3"
  }
 },
 "nbformat": 4,
 "nbformat_minor": 2
}
