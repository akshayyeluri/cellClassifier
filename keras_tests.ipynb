{
 "cells": [
  {
   "cell_type": "code",
   "execution_count": 1,
   "metadata": {},
   "outputs": [
    {
     "name": "stderr",
     "output_type": "stream",
     "text": [
      "Using TensorFlow backend.\n"
     ]
    },
    {
     "name": "stdout",
     "output_type": "stream",
     "text": [
      "Using gpu:  ['/job:localhost/replica:0/task:0/device:GPU:0']\n"
     ]
    }
   ],
   "source": [
    "# Standard python imports\n",
    "import os\n",
    "import h5py\n",
    "import numpy as np\n",
    "from tqdm import tqdm, tnrange, tqdm_notebook\n",
    "\n",
    "# Keras, tf, and sklearn\n",
    "import tensorflow as tf\n",
    "from sklearn.model_selection import train_test_split\n",
    "# Try seeing if we are using a gpu?\n",
    "from keras import backend as K\n",
    "sess = tf.Session(config=tf.ConfigProto(log_device_placement=True))\n",
    "K.set_session(sess)\n",
    "print(\"Using gpu: \", K.tensorflow_backend._get_available_gpus())\n",
    "\n",
    "# Make reproducible\n",
    "SEED = 32\n",
    "np.random.seed(SEED)\n",
    "tf.set_random_seed(SEED)\n",
    "\n",
    "# My module imports\n",
    "import utils\n",
    "from models import model_1d\n",
    "\n",
    "import matplotlib.pyplot as plt\n",
    "%matplotlib inline"
   ]
  },
  {
   "cell_type": "markdown",
   "metadata": {},
   "source": [
    "# Data Processing"
   ]
  },
  {
   "cell_type": "code",
   "execution_count": 2,
   "metadata": {},
   "outputs": [],
   "source": [
    "# Maybe get the data .mat file\n",
    "if not os.path.isfile(\"data.mat\"):\n",
    "    !wget https://www.dropbox.com/s/b1bnrj2f30xe1ns/xq_data_big.mat?dl=0\n",
    "    !mv 'xq_data_big.mat?dl=0' data.mat\n",
    "\n",
    "# Import the data from file\n",
    "f = h5py.File(\"data.mat\")\n",
    "data, labels = np.array(f['data']), np.array(f['labels'])\n",
    "f.close()"
   ]
  },
  {
   "cell_type": "code",
   "execution_count": 3,
   "metadata": {},
   "outputs": [],
   "source": [
    "# Get rid of zero columns\n",
    "colInds = np.sum(data, axis=0) != 0.0\n",
    "data = data[:, colInds]\n",
    "\n",
    "# Normalize\n",
    "data = np.log1p(data)\n",
    "\n",
    "# Labels are off by 1 cuz matlab\n",
    "labels = labels - 1"
   ]
  },
  {
   "cell_type": "code",
   "execution_count": 4,
   "metadata": {},
   "outputs": [
    {
     "data": {
      "image/png": "[encoded data removed]",
      "text/plain": [
       "<Figure size 432x288 with 1 Axes>"
      ]
     },
     "metadata": {
      "needs_background": "light"
     },
     "output_type": "display_data"
    }
   ],
   "source": [
    "# Visualize data with labels\n",
    "labels_scaled = labels * (data.max() - data.min()) / labels.max() - data.min()\n",
    "plt.imshow(np.hstack((data, np.repeat(labels_scaled, data.shape[1] //  10, axis=1))))\n",
    "plt.xlabel(\"Gene index (Colorbar at end is label)\")\n",
    "plt.ylabel(\"Cell index\");"
   ]
  },
  {
   "cell_type": "code",
   "execution_count": 5,
   "metadata": {},
   "outputs": [],
   "source": [
    "# Parameters to use for the rest of this workflow\n",
    "BATCH_SIZE = 60\n",
    "TEST_PROP = 0.1\n",
    "VAL_PROP = 0.1\n",
    "NCLASS = 10\n",
    "NFEATURES = data.shape[1]"
   ]
  },
  {
   "cell_type": "code",
   "execution_count": 6,
   "metadata": {},
   "outputs": [
    {
     "name": "stdout",
     "output_type": "stream",
     "text": [
      "[0. 0. 1. 0. 0. 0. 0. 0. 0. 0.]\n"
     ]
    },
    {
     "data": {
      "image/png": "[encoded data removed]",
      "text/plain": [
       "<Figure size 432x288 with 1 Axes>"
      ]
     },
     "metadata": {
      "needs_background": "light"
     },
     "output_type": "display_data"
    }
   ],
   "source": [
    "# Get test and training\n",
    "train_data, test_data, train_labels, test_labels = train_test_split(data, labels, test_size=TEST_PROP)\n",
    "\n",
    "# Convert labels to one-hot format\n",
    "train_labels = (np.arange(NCLASS) == train_labels).astype(np.float32)\n",
    "test_labels = (np.arange(NCLASS) == test_labels).astype(np.float32)\n",
    "\n",
    "# Sanity check to make sure data is not crazy\n",
    "plt.subplot(111).hist(train_data[0].flatten(), bins=20)\n",
    "print(train_labels[0])"
   ]
  },
  {
   "cell_type": "code",
   "execution_count": 7,
   "metadata": {},
   "outputs": [],
   "source": [
    "# Reshape the data\n",
    "test_data = test_data[:, :, None, None]\n",
    "train_data = train_data[:, :, None, None]"
   ]
  },
  {
   "cell_type": "markdown",
   "metadata": {},
   "source": [
    "# Model Definition"
   ]
  },
  {
   "cell_type": "code",
   "execution_count": 8,
   "metadata": {},
   "outputs": [
    {
     "name": "stdout",
     "output_type": "stream",
     "text": [
      "WARNING:tensorflow:From /gdn/centos7/0001/x3/prefixes/tensorflow-gpu/1.13.0-rc2-cudnn7.4-cuda10.0-02c7__08bb4fa58415/lib/python3.7/site-packages/tensorflow/python/framework/op_def_library.py:263: colocate_with (from tensorflow.python.framework.ops) is deprecated and will be removed in a future version.\n",
      "Instructions for updating:\n",
      "Colocations handled automatically by placer.\n"
     ]
    }
   ],
   "source": [
    "#model = model_1d(NFEATURES, conv_channels=[16, 16, 32, 64], dense_neurons=[512], n_class=NCLASS, \\\n",
    "#                 conv_ks=[10, 10, 10, 2], \\\n",
    "#                 pool_ks=[2, 4, 4, 12], \\\n",
    "#                 pads=['same', 'same', 'same', 'valid'], \\\n",
    "#                 dropout_strength=0.5)\n",
    "\n",
    "model = model_1d(NFEATURES, conv_channels=[16, 16, 32, 64, 128], dense_neurons=[512], n_class=NCLASS, \\\n",
    "                 conv_ks=[20, 10, 10, 2, 5], \\\n",
    "                 pool_ks=[2, 4, 4, 4, 3], \\\n",
    "                 pads=['same', 'same', 'same', 'valid', 'same'], \\\n",
    "                 pool_type='max',\\\n",
    "                 dropout_strength=0.5)\n",
    "\n",
    "model.compile(loss='categorical_crossentropy',\n",
    "              optimizer='adam',\n",
    "              metrics=['accuracy'])"
   ]
  },
  {
   "cell_type": "markdown",
   "metadata": {},
   "source": [
    "# Training / Evaluation"
   ]
  },
  {
   "cell_type": "code",
   "execution_count": 9,
   "metadata": {},
   "outputs": [
    {
     "name": "stdout",
     "output_type": "stream",
     "text": [
      "WARNING:tensorflow:From /gdn/centos7/0001/x3/prefixes/keras/2.2.4-03c7__c7e09d671a6a/lib/python3.7/site-packages/keras/backend/tensorflow_backend.py:3445: calling dropout (from tensorflow.python.ops.nn_ops) with keep_prob is deprecated and will be removed in a future version.\n",
      "Instructions for updating:\n",
      "Please use `rate` instead of `keep_prob`. Rate should be set to `rate = 1 - keep_prob`.\n",
      "WARNING:tensorflow:From /gdn/centos7/0001/x3/prefixes/tensorflow-gpu/1.13.0-rc2-cudnn7.4-cuda10.0-02c7__08bb4fa58415/lib/python3.7/site-packages/tensorflow/python/ops/math_ops.py:3066: to_int32 (from tensorflow.python.ops.math_ops) is deprecated and will be removed in a future version.\n",
      "Instructions for updating:\n",
      "Use tf.cast instead.\n",
      "Train on 16200 samples, validate on 1800 samples\n",
      "Epoch 1/10\n",
      "16200/16200 [==============================] - 14s 873us/step - loss: 1.3089 - acc: 0.5122 - val_loss: 0.7625 - val_acc: 0.7017\n",
      "Epoch 2/10\n",
      "16200/16200 [==============================] - 12s 724us/step - loss: 0.7375 - acc: 0.7104 - val_loss: 0.6023 - val_acc: 0.7617\n",
      "Epoch 3/10\n",
      "16200/16200 [==============================] - 12s 721us/step - loss: 0.5703 - acc: 0.7735 - val_loss: 0.5196 - val_acc: 0.7917\n",
      "Epoch 4/10\n",
      "16200/16200 [==============================] - 12s 724us/step - loss: 0.4596 - acc: 0.8166 - val_loss: 0.4789 - val_acc: 0.8056\n",
      "Epoch 5/10\n",
      "16200/16200 [==============================] - 12s 724us/step - loss: 0.3675 - acc: 0.8551 - val_loss: 0.4928 - val_acc: 0.7978\n",
      "Epoch 6/10\n",
      "16200/16200 [==============================] - 12s 726us/step - loss: 0.2870 - acc: 0.8849 - val_loss: 0.4864 - val_acc: 0.8217\n",
      "Epoch 7/10\n",
      "16200/16200 [==============================] - 12s 720us/step - loss: 0.2282 - acc: 0.9112 - val_loss: 0.4673 - val_acc: 0.8283\n",
      "Epoch 8/10\n",
      "16200/16200 [==============================] - 12s 725us/step - loss: 0.1880 - acc: 0.9288 - val_loss: 0.5355 - val_acc: 0.8206\n",
      "Epoch 9/10\n",
      "16200/16200 [==============================] - 12s 728us/step - loss: 0.1526 - acc: 0.9454 - val_loss: 0.5661 - val_acc: 0.8161\n",
      "Epoch 10/10\n",
      "16200/16200 [==============================] - 12s 727us/step - loss: 0.1175 - acc: 0.9564 - val_loss: 0.6437 - val_acc: 0.8156\n"
     ]
    },
    {
     "data": {
      "text/plain": [
       "<keras.callbacks.History at 0x7f8b801dc908>"
      ]
     },
     "execution_count": 9,
     "metadata": {},
     "output_type": "execute_result"
    }
   ],
   "source": [
    "model.fit(train_data, train_labels, \n",
    "          batch_size=BATCH_SIZE, epochs=10,\\\n",
    "          validation_split=0.1, verbose=1)"
   ]
  },
  {
   "cell_type": "code",
   "execution_count": 10,
   "metadata": {},
   "outputs": [
    {
     "name": "stdout",
     "output_type": "stream",
     "text": [
      "2000/2000 [==============================] - 1s 268us/step\n",
      "Test loss: 0.6971381943225861\n",
      "Test accuracy: 0.802\n"
     ]
    }
   ],
   "source": [
    "loss, acc = model.evaluate(test_data, test_labels)\n",
    "print(f\"Test loss: {loss}\")\n",
    "print(f\"Test accuracy: {acc}\")"
   ]
  },
  {
   "cell_type": "code",
   "execution_count": 11,
   "metadata": {
    "scrolled": true
   },
   "outputs": [
    {
     "data": {
      "image/png": "[encoded data removed]",
      "text/plain": [
       "<Figure size 432x288 with 1 Axes>"
      ]
     },
     "metadata": {
      "needs_background": "light"
     },
     "output_type": "display_data"
    }
   ],
   "source": [
    "preds = model.predict(test_data)\n",
    "conf = utils.confusions(preds, test_labels)\n",
    "utils.plot_confusions(conf);"
   ]
  },
  {
   "cell_type": "markdown",
   "metadata": {},
   "source": [
    "# Saving / Summary"
   ]
  },
  {
   "cell_type": "code",
   "execution_count": 12,
   "metadata": {},
   "outputs": [
    {
     "name": "stdout",
     "output_type": "stream",
     "text": [
      "_________________________________________________________________\n",
      "Layer (type)                 Output Shape              Param #   \n",
      "=================================================================\n",
      "conv2d_2 (Conv2D)            (None, 19232, 1, 16)      176       \n",
      "_________________________________________________________________\n",
      "max_pooling2d_1 (MaxPooling2 (None, 4808, 1, 16)       0         \n",
      "_________________________________________________________________\n",
      "conv2d_3 (Conv2D)            (None, 4808, 1, 32)       5152      \n",
      "_________________________________________________________________\n",
      "max_pooling2d_2 (MaxPooling2 (None, 1202, 1, 32)       0         \n",
      "_________________________________________________________________\n",
      "conv2d_4 (Conv2D)            (None, 1201, 1, 64)       4160      \n",
      "_________________________________________________________________\n",
      "max_pooling2d_3 (MaxPooling2 (None, 300, 1, 64)        0         \n",
      "_________________________________________________________________\n",
      "conv2d_5 (Conv2D)            (None, 300, 1, 128)       41088     \n",
      "_________________________________________________________________\n",
      "max_pooling2d_4 (MaxPooling2 (None, 100, 1, 128)       0         \n",
      "_________________________________________________________________\n",
      "flatten_1 (Flatten)          (None, 12800)             0         \n",
      "_________________________________________________________________\n",
      "dense_1 (Dense)              (None, 512)               6554112   \n",
      "_________________________________________________________________\n",
      "dropout_1 (Dropout)          (None, 512)               0         \n",
      "_________________________________________________________________\n",
      "dense_2 (Dense)              (None, 10)                5130      \n",
      "=================================================================\n",
      "Total params: 6,609,818\n",
      "Trainable params: 6,609,818\n",
      "Non-trainable params: 0\n",
      "_________________________________________________________________\n"
     ]
    }
   ],
   "source": [
    "model.summary()"
   ]
  },
  {
   "cell_type": "code",
   "execution_count": 13,
   "metadata": {},
   "outputs": [],
   "source": [
    "fName = \"test_model.h5\"\n",
    "model.save(fName)"
   ]
  },
  {
   "cell_type": "markdown",
   "metadata": {},
   "source": [
    "# Reloading old model\n"
   ]
  },
  {
   "cell_type": "code",
   "execution_count": 14,
   "metadata": {},
   "outputs": [],
   "source": [
    "from keras.models import load_model\n",
    "model = load_model(\"test_model.h5\")"
   ]
  },
  {
   "cell_type": "code",
   "execution_count": 15,
   "metadata": {},
   "outputs": [
    {
     "name": "stdout",
     "output_type": "stream",
     "text": [
      "18000/18000 [==============================] - 5s 254us/step\n",
      "Train loss: 0.09317044732222954\n",
      "Train accuracy: 0.9762777777777778\n"
     ]
    }
   ],
   "source": [
    "loss, acc = model.evaluate(train_data, train_labels)\n",
    "print(f\"Train loss: {loss}\")\n",
    "print(f\"Train accuracy: {acc}\")"
   ]
  },
  {
   "cell_type": "code",
   "execution_count": 16,
   "metadata": {},
   "outputs": [
    {
     "name": "stdout",
     "output_type": "stream",
     "text": [
      "2000/2000 [==============================] - 0s 240us/step\n",
      "Test loss: 0.6971381943225861\n",
      "Test accuracy: 0.802\n"
     ]
    }
   ],
   "source": [
    "loss, acc = model.evaluate(test_data, test_labels)\n",
    "print(f\"Test loss: {loss}\")\n",
    "print(f\"Test accuracy: {acc}\")"
   ]
  },
  {
   "cell_type": "markdown",
   "metadata": {},
   "source": [
    "# A closer look at the data"
   ]
  },
  {
   "cell_type": "code",
   "execution_count": 17,
   "metadata": {},
   "outputs": [],
   "source": [
    "t_dat, t_lab = test_data.reshape(test_data.shape[:2]), np.argmax(test_labels, axis=1)"
   ]
  },
  {
   "cell_type": "code",
   "execution_count": 18,
   "metadata": {},
   "outputs": [
    {
     "data": {
      "image/png": "[encoded data removed]",
      "text/plain": [
       "<Figure size 432x288 with 1 Axes>"
      ]
     },
     "metadata": {
      "needs_background": "light"
     },
     "output_type": "display_data"
    }
   ],
   "source": [
    "plt.hist(np.argmax(test_labels, axis=1));"
   ]
  },
  {
   "cell_type": "code",
   "execution_count": 19,
   "metadata": {},
   "outputs": [
    {
     "data": {
      "image/png": "[encoded data removed]",
      "text/plain": [
       "<Figure size 432x288 with 1 Axes>"
      ]
     },
     "metadata": {
      "needs_background": "light"
     },
     "output_type": "display_data"
    }
   ],
   "source": [
    "plt.hist(np.argmax(train_labels, axis=1));"
   ]
  },
  {
   "cell_type": "code",
   "execution_count": 20,
   "metadata": {},
   "outputs": [
    {
     "data": {
      "text/plain": [
       "<matplotlib.image.AxesImage at 0x7f8af13ecf98>"
      ]
     },
     "execution_count": 20,
     "metadata": {},
     "output_type": "execute_result"
    },
    {
     "data": {
      "image/png": "[encoded data removed]",
      "text/plain": [
       "<Figure size 432x288 with 2 Axes>"
      ]
     },
     "metadata": {
      "needs_background": "light"
     },
     "output_type": "display_data"
    }
   ],
   "source": [
    "plt.subplot(121).imshow(t_dat[t_lab == 0], aspect=100);\n",
    "plt.subplot(122).imshow(t_dat[t_lab == 4], aspect=100)"
   ]
  }
 ],
 "metadata": {
  "kernelspec": {
   "display_name": "Python 3",
   "language": "python",
   "name": "python3"
  },
  "language_info": {
   "codemirror_mode": {
    "name": "ipython",
    "version": 3
   },
   "file_extension": ".py",
   "mimetype": "text/x-python",
   "name": "python",
   "nbconvert_exporter": "python",
   "pygments_lexer": "ipython3",
   "version": "3.7.3"
  }
 },
 "nbformat": 4,
 "nbformat_minor": 2
}
