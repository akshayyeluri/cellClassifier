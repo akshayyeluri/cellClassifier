{
 "cells": [
  {
   "cell_type": "code",
   "execution_count": 1,
   "metadata": {},
   "outputs": [
    {
     "name": "stderr",
     "output_type": "stream",
     "text": [
      "/Users/divyayeluri/envs/ml_env/lib/python3.7/site-packages/tensorflow/python/framework/dtypes.py:516: FutureWarning: Passing (type, 1) or '1type' as a synonym of type is deprecated; in a future version of numpy, it will be understood as (type, (1,)) / '(1,)type'.\n",
      "  _np_qint8 = np.dtype([(\"qint8\", np.int8, 1)])\n",
      "/Users/divyayeluri/envs/ml_env/lib/python3.7/site-packages/tensorflow/python/framework/dtypes.py:517: FutureWarning: Passing (type, 1) or '1type' as a synonym of type is deprecated; in a future version of numpy, it will be understood as (type, (1,)) / '(1,)type'.\n",
      "  _np_quint8 = np.dtype([(\"quint8\", np.uint8, 1)])\n",
      "/Users/divyayeluri/envs/ml_env/lib/python3.7/site-packages/tensorflow/python/framework/dtypes.py:518: FutureWarning: Passing (type, 1) or '1type' as a synonym of type is deprecated; in a future version of numpy, it will be understood as (type, (1,)) / '(1,)type'.\n",
      "  _np_qint16 = np.dtype([(\"qint16\", np.int16, 1)])\n",
      "/Users/divyayeluri/envs/ml_env/lib/python3.7/site-packages/tensorflow/python/framework/dtypes.py:519: FutureWarning: Passing (type, 1) or '1type' as a synonym of type is deprecated; in a future version of numpy, it will be understood as (type, (1,)) / '(1,)type'.\n",
      "  _np_quint16 = np.dtype([(\"quint16\", np.uint16, 1)])\n",
      "/Users/divyayeluri/envs/ml_env/lib/python3.7/site-packages/tensorflow/python/framework/dtypes.py:520: FutureWarning: Passing (type, 1) or '1type' as a synonym of type is deprecated; in a future version of numpy, it will be understood as (type, (1,)) / '(1,)type'.\n",
      "  _np_qint32 = np.dtype([(\"qint32\", np.int32, 1)])\n",
      "/Users/divyayeluri/envs/ml_env/lib/python3.7/site-packages/tensorflow/python/framework/dtypes.py:525: FutureWarning: Passing (type, 1) or '1type' as a synonym of type is deprecated; in a future version of numpy, it will be understood as (type, (1,)) / '(1,)type'.\n",
      "  np_resource = np.dtype([(\"resource\", np.ubyte, 1)])\n",
      "/Users/divyayeluri/envs/ml_env/lib/python3.7/site-packages/tensorboard/compat/tensorflow_stub/dtypes.py:541: FutureWarning: Passing (type, 1) or '1type' as a synonym of type is deprecated; in a future version of numpy, it will be understood as (type, (1,)) / '(1,)type'.\n",
      "  _np_qint8 = np.dtype([(\"qint8\", np.int8, 1)])\n",
      "/Users/divyayeluri/envs/ml_env/lib/python3.7/site-packages/tensorboard/compat/tensorflow_stub/dtypes.py:542: FutureWarning: Passing (type, 1) or '1type' as a synonym of type is deprecated; in a future version of numpy, it will be understood as (type, (1,)) / '(1,)type'.\n",
      "  _np_quint8 = np.dtype([(\"quint8\", np.uint8, 1)])\n",
      "/Users/divyayeluri/envs/ml_env/lib/python3.7/site-packages/tensorboard/compat/tensorflow_stub/dtypes.py:543: FutureWarning: Passing (type, 1) or '1type' as a synonym of type is deprecated; in a future version of numpy, it will be understood as (type, (1,)) / '(1,)type'.\n",
      "  _np_qint16 = np.dtype([(\"qint16\", np.int16, 1)])\n",
      "/Users/divyayeluri/envs/ml_env/lib/python3.7/site-packages/tensorboard/compat/tensorflow_stub/dtypes.py:544: FutureWarning: Passing (type, 1) or '1type' as a synonym of type is deprecated; in a future version of numpy, it will be understood as (type, (1,)) / '(1,)type'.\n",
      "  _np_quint16 = np.dtype([(\"quint16\", np.uint16, 1)])\n",
      "/Users/divyayeluri/envs/ml_env/lib/python3.7/site-packages/tensorboard/compat/tensorflow_stub/dtypes.py:545: FutureWarning: Passing (type, 1) or '1type' as a synonym of type is deprecated; in a future version of numpy, it will be understood as (type, (1,)) / '(1,)type'.\n",
      "  _np_qint32 = np.dtype([(\"qint32\", np.int32, 1)])\n",
      "/Users/divyayeluri/envs/ml_env/lib/python3.7/site-packages/tensorboard/compat/tensorflow_stub/dtypes.py:550: FutureWarning: Passing (type, 1) or '1type' as a synonym of type is deprecated; in a future version of numpy, it will be understood as (type, (1,)) / '(1,)type'.\n",
      "  np_resource = np.dtype([(\"resource\", np.ubyte, 1)])\n"
     ]
    }
   ],
   "source": [
    "import arch_1 as arch # This is the model architecture to use\n",
    "import utils\n",
    "\n",
    "import tensorflow as tf\n",
    "import numpy as np\n",
    "#from tqdm import tqdm, tnrange, tqdm_notebook\n",
    "import matplotlib.pyplot as plt\n",
    "%matplotlib inline"
   ]
  },
  {
   "cell_type": "markdown",
   "metadata": {},
   "source": [
    "# Data Processing"
   ]
  },
  {
   "cell_type": "code",
   "execution_count": 2,
   "metadata": {},
   "outputs": [],
   "source": [
    "# Parameters to use for the rest of this workflow\n",
    "BATCH_SIZE = 60\n",
    "NCLASS = 10"
   ]
  },
  {
   "cell_type": "code",
   "execution_count": 3,
   "metadata": {},
   "outputs": [],
   "source": [
    "data = np.load(\"mnist.npz\")"
   ]
  },
  {
   "cell_type": "code",
   "execution_count": 4,
   "metadata": {},
   "outputs": [],
   "source": [
    "# Import and normalize the training and testing data\n",
    "data = np.load(\"mnist.npz\")\n",
    "(train_data, train_labels, test_data, test_labels) = data['x_train'], data['y_train'], data['x_test'], data['y_test']\n",
    "train_data = (train_data - 255 / 2) / 255\n",
    "test_data = (test_data - 255 / 2) / 255\n",
    "\n",
    "# Convert labels to one-hot format\n",
    "train_labels = (np.arange(NCLASS) == train_labels[:, None]).astype(np.float32)\n",
    "test_labels = (np.arange(NCLASS) == test_labels[:, None]).astype(np.float32)"
   ]
  },
  {
   "cell_type": "code",
   "execution_count": 5,
   "metadata": {},
   "outputs": [
    {
     "name": "stdout",
     "output_type": "stream",
     "text": [
      "[0. 0. 0. 0. 0. 1. 0. 0. 0. 0.]\n"
     ]
    },
    {
     "data": {
      "image/png": "[encoded data removed]",
      "text/plain": [
       "<Figure size 432x288 with 2 Axes>"
      ]
     },
     "metadata": {
      "needs_background": "light"
     },
     "output_type": "display_data"
    }
   ],
   "source": [
    "# Sanity check to make sure data is not crazy\n",
    "plt.subplot(211).imshow(train_data[0], cmap=plt.cm.Greys)\n",
    "plt.subplot(212).hist(train_data[0].flatten(), bins=20)\n",
    "print(train_labels[0])"
   ]
  },
  {
   "cell_type": "code",
   "execution_count": 6,
   "metadata": {},
   "outputs": [],
   "source": [
    "# Extract validation set from data\n",
    "VAL_SIZE = 5000 #int(train_data.shape[0] * 0.1)\n",
    "val_data, train_data = train_data[:VAL_SIZE], train_data[VAL_SIZE:]\n",
    "val_labels, train_labels = train_labels[:VAL_SIZE], train_labels[VAL_SIZE:]"
   ]
  },
  {
   "cell_type": "code",
   "execution_count": 7,
   "metadata": {},
   "outputs": [],
   "source": [
    "# Reshape data to the format specified by the particular architecture we are using\n",
    "train_data = arch.reshape_data(train_data)\n",
    "test_data = arch.reshape_data(test_data)\n",
    "val_data = arch.reshape_data(val_data)"
   ]
  },
  {
   "cell_type": "markdown",
   "metadata": {},
   "source": [
    "# Defining computation graph"
   ]
  },
  {
   "cell_type": "markdown",
   "metadata": {},
   "source": [
    "### Variables and input / output nodes"
   ]
  },
  {
   "cell_type": "code",
   "execution_count": 8,
   "metadata": {},
   "outputs": [],
   "source": [
    "arch.make_vars_on_cpu(NCLASS)\n",
    "train_data_node = tf.placeholder(tf.float32, [BATCH_SIZE] + list(train_data.shape[1:]))\n",
    "train_label_node = tf.placeholder(tf.float32, [BATCH_SIZE, NCLASS])         \n",
    "test_data_node, test_label_node = tf.constant(test_data, dtype=tf.float32), tf.constant(test_labels, dtype=tf.float32)\n",
    "val_data_node, val_label_node = tf.constant(val_data, dtype=tf.float32), tf.constant(val_labels, dtype=tf.float32)"
   ]
  },
  {
   "cell_type": "markdown",
   "metadata": {},
   "source": [
    "### Losses, learning rate, and optimization step"
   ]
  },
  {
   "cell_type": "code",
   "execution_count": 9,
   "metadata": {},
   "outputs": [
    {
     "name": "stderr",
     "output_type": "stream",
     "text": [
      "WARNING: Logging before flag parsing goes to stderr.\n",
      "W0816 05:13:52.205307 140735986992000 deprecation.py:323] From <ipython-input-9-f918e3f1eef6>:9: softmax_cross_entropy_with_logits (from tensorflow.python.ops.nn_ops) is deprecated and will be removed in a future version.\n",
      "Instructions for updating:\n",
      "\n",
      "Future major versions of TensorFlow will allow gradients to flow\n",
      "into the labels input on backprop by default.\n",
      "\n",
      "See `tf.nn.softmax_cross_entropy_with_logits_v2`.\n",
      "\n"
     ]
    }
   ],
   "source": [
    "val_out = arch.model(val_data_node)\n",
    "val_probs = tf.nn.softmax(val_out)\n",
    "\n",
    "test_out = arch.model(test_data_node)\n",
    "test_probs = tf.nn.softmax(test_out)\n",
    "\n",
    "logits, regularizers = arch.model(train_data_node, train=True)\n",
    "probs = tf.nn.softmax(logits)\n",
    "loss = tf.reduce_mean(tf.nn.softmax_cross_entropy_with_logits(logits=logits, labels=train_label_node))\n",
    "loss += regularizers\n",
    "\n",
    "global_step = tf.Variable(0, trainable=False)\n",
    "start_eta = 0.01\n",
    "learning_rate = tf.train.exponential_decay(start_eta, global_step * BATCH_SIZE, train_labels.shape[0], 0.95, staircase=True)\n",
    "update_weights = tf.train.MomentumOptimizer(learning_rate=learning_rate, momentum=0.9).minimize(loss, global_step=global_step)"
   ]
  },
  {
   "cell_type": "markdown",
   "metadata": {},
   "source": [
    "# Training"
   ]
  },
  {
   "cell_type": "code",
   "execution_count": 10,
   "metadata": {},
   "outputs": [],
   "source": [
    "sess = tf.InteractiveSession()\n",
    "sess.as_default()\n",
    "tf.global_variables_initializer().run()"
   ]
  },
  {
   "cell_type": "markdown",
   "metadata": {},
   "source": [
    "### Sanity check, ensure that things are working"
   ]
  },
  {
   "cell_type": "code",
   "execution_count": 11,
   "metadata": {},
   "outputs": [
    {
     "name": "stdout",
     "output_type": "stream",
     "text": [
      "Initial mini-batch err: 93.33333333333333\n"
     ]
    },
    {
     "data": {
      "image/png": "[encoded data removed]",
      "text/plain": [
       "<Figure size 432x288 with 1 Axes>"
      ]
     },
     "metadata": {
      "needs_background": "light"
     },
     "output_type": "display_data"
    }
   ],
   "source": [
    "dat, lab = train_data[:BATCH_SIZE], train_labels[:BATCH_SIZE]\n",
    "\n",
    "feed_dict = {train_data_node:dat, train_label_node:lab }\n",
    "_, predictions, l = sess.run([update_weights, probs, loss], feed_dict)\n",
    "\n",
    "err, confusions = utils.error_rate(predictions, lab), utils.confusions(predictions, lab)\n",
    "print(f\"Initial mini-batch err: {err}\")\n",
    "utils.plot_confusions(confusions);"
   ]
  },
  {
   "cell_type": "markdown",
   "metadata": {},
   "source": [
    "### Actual training"
   ]
  },
  {
   "cell_type": "code",
   "execution_count": 12,
   "metadata": {},
   "outputs": [
    {
     "name": "stdout",
     "output_type": "stream",
     "text": [
      "Step 0 of 916\n",
      "Mini-batch loss: 7.712627410888672, error: 91.66666666666666, val error: 88.94\n",
      "Step 100 of 916\n",
      "Mini-batch loss: 3.3196067810058594, error: 8.333333333333337, val error: 6.020000000000003\n",
      "Step 200 of 916\n",
      "Mini-batch loss: 3.351055860519409, error: 9.999999999999998, val error: 3.8599999999999968\n",
      "Step 300 of 916\n",
      "Mini-batch loss: 3.155623197555542, error: 3.3333333333333326, val error: 3.1399999999999983\n",
      "Step 400 of 916\n",
      "Mini-batch loss: 3.1326558589935303, error: 6.666666666666665, val error: 2.62\n",
      "Step 500 of 916\n",
      "Mini-batch loss: 3.028395175933838, error: 1.6666666666666718, val error: 2.3800000000000043\n",
      "Step 600 of 916\n",
      "Mini-batch loss: 3.054330348968506, error: 5.000000000000004, val error: 1.9399999999999973\n",
      "Step 700 of 916\n",
      "Mini-batch loss: 3.11600399017334, error: 6.666666666666665, val error: 2.300000000000002\n",
      "Step 800 of 916\n",
      "Mini-batch loss: 3.0401999950408936, error: 6.666666666666665, val error: 1.8199999999999994\n",
      "Step 900 of 916\n",
      "Mini-batch loss: 2.8527944087982178, error: 0.0, val error: 2.0000000000000018\n"
     ]
    }
   ],
   "source": [
    "# Train over the first 1/4th of our training set.\n",
    "n_epoch = 1\n",
    "steps = (train_labels.shape[0] // BATCH_SIZE) * n_epoch\n",
    "ls = np.empty(steps)\n",
    "errs = np.empty(steps)\n",
    "val_errs = np.empty(np.ceil(steps / 100).astype(int))\n",
    "\n",
    "for step in range(steps):\n",
    "    # Compute the offset of the current minibatch in the data.\n",
    "    offset = (step * BATCH_SIZE) % (train_labels.shape[0] - BATCH_SIZE) # Should really randomize some\n",
    "    batch_data = train_data[offset:(offset + BATCH_SIZE), :, :, :]\n",
    "    batch_labels = train_labels[offset:(offset + BATCH_SIZE)]\n",
    "    feed_dict = {train_data_node: batch_data,\n",
    "                 train_label_node: batch_labels}\n",
    "    # Run the graph and fetch some of the nodes.\n",
    "    _, l, predictions = sess.run(\n",
    "      [update_weights, loss, probs],\n",
    "      feed_dict=feed_dict)\n",
    "    ls[step] = l\n",
    "    errs[step] = utils.error_rate(predictions, batch_labels)\n",
    "    \n",
    "    if step % 100 == 0:\n",
    "        val_errs[step // 100] = utils.error_rate(val_out.eval(), val_labels)\n",
    "        print('Step %d of %d' % (step, steps))\n",
    "        print(\"Mini-batch loss: {}, error: {}, val error: {}\".format(ls[step], errs[step], val_errs[step // 100]))"
   ]
  },
  {
   "cell_type": "markdown",
   "metadata": {},
   "source": [
    "# Evaluation"
   ]
  },
  {
   "cell_type": "markdown",
   "metadata": {},
   "source": [
    "### Performance on test set"
   ]
  },
  {
   "cell_type": "code",
   "execution_count": 13,
   "metadata": {},
   "outputs": [
    {
     "name": "stdout",
     "output_type": "stream",
     "text": [
      "Test error: 1.849999999999996\n"
     ]
    },
    {
     "data": {
      "image/png": "[encoded data removed]",
      "text/plain": [
       "<Figure size 432x288 with 1 Axes>"
      ]
     },
     "metadata": {
      "needs_background": "light"
     },
     "output_type": "display_data"
    }
   ],
   "source": [
    "predicted, actual = test_probs.eval(), test_label_node.eval()\n",
    "error = utils.error_rate(predicted, actual)\n",
    "confusions = utils.confusions(predicted, actual)\n",
    "print(f\"Test error: {error}\")\n",
    "utils.plot_confusions(confusions);"
   ]
  },
  {
   "cell_type": "markdown",
   "metadata": {},
   "source": [
    "### Learning curves"
   ]
  },
  {
   "cell_type": "code",
   "execution_count": 14,
   "metadata": {},
   "outputs": [
    {
     "data": {
      "image/png": "[encoded data removed]",
      "text/plain": [
       "<Figure size 864x360 with 2 Axes>"
      ]
     },
     "metadata": {
      "needs_background": "light"
     },
     "output_type": "display_data"
    }
   ],
   "source": [
    "fig, ax = plt.subplots(1, 2, figsize=(12, 5))\n",
    "\n",
    "ax[0].plot(ls)\n",
    "ax[0].set_xlabel(\"Training Step\")\n",
    "ax[0].set_ylabel(\"Loss (cross-entropy)\")\n",
    "\n",
    "ax[1].plot(errs, label=\"Training Error\")\n",
    "ax[1].scatter(np.arange(val_errs.shape[0]) * 100, val_errs, label=\"Validation Error\", c='k')\n",
    "ax[1].set_xlabel(\"Training Step\")\n",
    "ax[1].set_ylabel(\"Error rate (\\%)\")\n",
    "ax[1].legend();"
   ]
  }
 ],
 "metadata": {
  "kernelspec": {
   "display_name": "ml_env",
   "language": "python",
   "name": "ml_env"
  },
  "language_info": {
   "codemirror_mode": {
    "name": "ipython",
    "version": 3
   },
   "file_extension": ".py",
   "mimetype": "text/x-python",
   "name": "python",
   "nbconvert_exporter": "python",
   "pygments_lexer": "ipython3",
   "version": "3.7.4"
  }
 },
 "nbformat": 4,
 "nbformat_minor": 4
}
